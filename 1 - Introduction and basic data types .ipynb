{
 "cells": [
  {
   "cell_type": "markdown",
   "metadata": {},
   "source": [
    "# R - the language\n",
    "\n",
    "\n",
    "R is a programming language and **free software** environment mostly used for statistical computing. https://www.r-project.org/about.html\n",
    "\n",
    "R is high-level programming language, just like Ruby and Python, but more oriented to **tables manipulation** and **statistical analysis**.\n",
    "\n",
    "Please have this **cheatsheet** at hand:\n",
    "http://github.com/rstudio/cheatsheets/raw/master/base-r.pdf\n",
    "\n",
    "If you wanna use R at home (or even during this lesson), you can use **Rstudio**:\n",
    "https://rstudio.com/\n",
    "\n",
    "with the **terminal**, you can instead simply type \"R\".\n",
    "\n",
    "Later in the class, we will use the **ggplot** package to do plotting. ggplot is part of a bigger package, **tidyverse**, which provides many more useful packages https://www.tidyverse.org/\n",
    "\n",
    "\n",
    "You can ge information about a function with the ? character:    "
   ]
  },
  {
   "cell_type": "code",
   "execution_count": 1,
   "metadata": {
    "vscode": {
     "languageId": "r"
    }
   },
   "outputs": [
    {
     "name": "stdout",
     "output_type": "stream",
     "text": [
      "print                   package:base                   R Documentation\n",
      "\n",
      "_\bP_\br_\bi_\bn_\bt _\bV_\ba_\bl_\bu_\be_\bs\n",
      "\n",
      "_\bD_\be_\bs_\bc_\br_\bi_\bp_\bt_\bi_\bo_\bn:\n",
      "\n",
      "     ‘print’ prints its argument and returns it _invisibly_ (via\n",
      "     ‘invisible(x)’).  It is a generic function which means that new\n",
      "     printing methods can be easily added for new ‘class’es.\n",
      "\n",
      "_\bU_\bs_\ba_\bg_\be:\n",
      "\n",
      "     print(x, ...)\n",
      "     \n",
      "     ## S3 method for class 'factor'\n",
      "     print(x, quote = FALSE, max.levels = NULL,\n",
      "           width = getOption(\"width\"), ...)\n",
      "     \n",
      "     ## S3 method for class 'table'\n",
      "     print(x, digits = getOption(\"digits\"), quote = FALSE,\n",
      "           na.print = \"\", zero.print = \"0\",\n",
      "           right = is.numeric(x) || is.complex(x),\n",
      "           justify = \"none\", ...)\n",
      "     \n",
      "     ## S3 method for class 'function'\n",
      "     print(x, useSource = TRUE, ...)\n",
      "     \n",
      "_\bA_\br_\bg_\bu_\bm_\be_\bn_\bt_\bs:\n",
      "\n",
      "       x: an object used to select a method.\n",
      "\n",
      "     ...: further arguments passed to or from other methods.\n",
      "\n",
      "   quote: logical, indicating whether or not strings should be printed\n",
      "          with surrounding quotes.\n",
      "\n",
      "max.levels: integer, indicating how many levels should be printed for a\n",
      "          factor; if ‘0’, no extra \"Levels\" line will be printed.  The\n",
      "          default, ‘NULL’, entails choosing ‘max.levels’ such that the\n",
      "          levels print on one line of width ‘width’.\n",
      "\n",
      "   width: only used when ‘max.levels’ is NULL, see above.\n",
      "\n",
      "  digits: minimal number of _significant_ digits, see ‘print.default’.\n",
      "\n",
      "na.print: character string (or ‘NULL’) indicating ‘NA’ values in\n",
      "          printed output, see ‘print.default’.\n",
      "\n",
      "zero.print: character specifying how zeros (‘0’) should be printed; for\n",
      "          sparse tables, using ‘\".\"’ can produce more readable results,\n",
      "          similar to printing sparse matrices in ‘Matrix’.\n",
      "\n",
      "   right: logical, indicating whether or not strings should be right\n",
      "          aligned.\n",
      "\n",
      " justify: character indicating if strings should left- or\n",
      "          right-justified or left alone, passed to ‘format’.\n",
      "\n",
      "useSource: logical indicating if internally stored source should be\n",
      "          used for printing when present, e.g., if ‘options(keep.source\n",
      "          = TRUE)’ has been in use.\n",
      "\n",
      "_\bD_\be_\bt_\ba_\bi_\bl_\bs:\n",
      "\n",
      "     The default method, ‘print.default’ has its own help page.  Use\n",
      "     ‘methods(\"print\")’ to get all the methods for the ‘print’ generic.\n",
      "\n",
      "     ‘print.factor’ allows some customization and is used for printing\n",
      "     ‘ordered’ factors as well.\n",
      "\n",
      "     ‘print.table’ for printing ‘table’s allows other customization.\n",
      "     As of R 3.0.0, it only prints a description in case of a table\n",
      "     with 0-extents (this can happen if a classifier has no valid\n",
      "     data).\n",
      "\n",
      "     See ‘noquote’ as an example of a class whose main purpose is a\n",
      "     specific ‘print’ method.\n",
      "\n",
      "_\bR_\be_\bf_\be_\br_\be_\bn_\bc_\be_\bs:\n",
      "\n",
      "     Chambers, J. M. and Hastie, T. J. (1992) _Statistical Models in\n",
      "     S._ Wadsworth & Brooks/Cole.\n",
      "\n",
      "_\bS_\be_\be _\bA_\bl_\bs_\bo:\n",
      "\n",
      "     The default method ‘print.default’, and help for the methods\n",
      "     above; further ‘options’, ‘noquote’.\n",
      "\n",
      "     For more customizable (but cumbersome) printing, see ‘cat’,\n",
      "     ‘format’ or also ‘write’.  For a simple prototypical print method,\n",
      "     see ‘.print.via.format’ in package ‘tools’.\n",
      "\n",
      "_\bE_\bx_\ba_\bm_\bp_\bl_\be_\bs:\n",
      "\n",
      "     require(stats)\n",
      "     \n",
      "     ts(1:20)  #-- print is the \"Default function\" --> print.ts(.) is called\n",
      "     for(i in 1:3) print(1:i)\n",
      "     \n",
      "     ## Printing of factors\n",
      "     attenu$station ## 117 levels -> 'max.levels' depending on width\n",
      "     \n",
      "     ## ordered factors: levels  \"l1 < l2 < ..\"\n",
      "     esoph$agegp[1:12]\n",
      "     esoph$alcgp[1:12]\n",
      "     \n",
      "     ## Printing of sparse (contingency) tables\n",
      "     set.seed(521)\n",
      "     t1 <- round(abs(rt(200, df = 1.8)))\n",
      "     t2 <- round(abs(rt(200, df = 1.4)))\n",
      "     table(t1, t2) # simple\n",
      "     print(table(t1, t2), zero.print = \".\") # nicer to read\n",
      "     \n",
      "     ## same for non-integer \"table\":\n",
      "     T <- table(t2,t1)\n",
      "     T <- T * (1+round(rlnorm(length(T)))/4)\n",
      "     print(T, zero.print = \".\") # quite nicer,\n",
      "     print.table(T[,2:8] * 1e9, digits=3, zero.print = \".\")\n",
      "     ## still slightly inferior to  Matrix::Matrix(T)  for larger T\n",
      "     \n",
      "     ## Corner cases with empty extents:\n",
      "     table(1, NA) # < table of extent 1 x 0 >\n",
      "     "
     ]
    }
   ],
   "source": [
    "?print"
   ]
  },
  {
   "cell_type": "code",
   "execution_count": 2,
   "metadata": {
    "vscode": {
     "languageId": "r"
    }
   },
   "outputs": [
    {
     "name": "stdout",
     "output_type": "stream",
     "text": [
      "[1] \"Ciaooo!\"\n"
     ]
    }
   ],
   "source": [
    "print(\"Ciaooo!\")"
   ]
  },
  {
   "cell_type": "markdown",
   "metadata": {},
   "source": [
    "If you have just a vague idea about a function of which you don''t remember the name, you can search it:"
   ]
  },
  {
   "cell_type": "code",
   "execution_count": 3,
   "metadata": {
    "vscode": {
     "languageId": "r"
    }
   },
   "outputs": [
    {
     "name": "stdout",
     "output_type": "stream",
     "text": [
      "R Information\n",
      "\n",
      "Help files with alias or concept or title matching ‘select’ using fuzzy\n",
      "matching:\n",
      "\n",
      "\n",
      "base::ifelse            Conditional Element Selection\n",
      "base::socketSelect      Wait on Socket Connections\n",
      "  Aliases: socketSelect\n",
      "base::switch            Select One of a List of Alternatives\n",
      "cli::match_selector     Match a selector to a container stack\n",
      "  Aliases: match_selector\n",
      "cli::match_selector_node\n",
      "                        Match a selector node to a container\n",
      "  Aliases: match_selector_node\n",
      "cli::parse_selector     Parse a CSS3-like selector\n",
      "  Aliases: parse_selector\n",
      "methods::getMethod      Get or Test for the Definition of a Method\n",
      "  Aliases: selectMethod\n",
      "methods::listFromMlist\n",
      "                        MethodsList Objects\n",
      "  Aliases: MethodsListSelect\n",
      "methods::selectSuperClasses\n",
      "                        Super Classes (of Specific Kinds) of a Class\n",
      "  Aliases: selectSuperClasses, .selectSuperClasses\n",
      "methods::testInheritedMethods\n",
      "                        Test for and Report about Selection of\n",
      "                        Inherited Methods\n",
      "  Aliases: MethodSelectionReport-class\n",
      "parallel::children      Low-level Functions for Management of Forked\n",
      "                        Processes\n",
      "  Aliases: selectChildren\n",
      "stats::bw.nrd0          Bandwidth Selectors for Kernel Density\n",
      "                        Estimation\n",
      "tcltk::tk_select.list   Select Items from a List\n",
      "  Aliases: tk_select.list\n",
      "tcltk::TkCommands       Tk non-widget commands\n",
      "  Aliases: tkXselection.clear, tkXselection.get, tkXselection.handle,\n",
      "    tkXselection.own\n",
      "tcltk::TkWidgetcmds     Tk widget commands\n",
      "  Aliases: tkcurselection, tkdeselect, tkselect, tkselection.adjust,\n",
      "    tkselection.anchor, tkselection.clear, tkselection.from,\n",
      "    tkselection.includes, tkselection.present, tkselection.range,\n",
      "    tkselection.set, tkselection.to\n",
      "tools::bibstyle         Select or Define a Bibliography Style\n",
      "tools::RdTextFilter     Select Text in an Rd File\n",
      "utils::chooseBioCmirror\n",
      "                        Select a Bioconductor Mirror\n",
      "utils::chooseCRANmirror\n",
      "                        Select a CRAN Mirror\n",
      "utils::localeToCharset\n",
      "                        Select a Suitable Encoding Name from a Locale\n",
      "                        Name\n",
      "utils::select.list      Select Items from a List\n",
      "  Aliases: select.list\n",
      "utils::setRepositories\n",
      "                        Select Package Repositories\n",
      "\n",
      "\n",
      "Type '?PKG::FOO' to inspect entries 'PKG::FOO', or 'TYPE?PKG::FOO' for\n",
      "entries like 'PKG::FOO-TYPE'.\n",
      "\n",
      "\n"
     ]
    }
   ],
   "source": [
    "??select"
   ]
  },
  {
   "cell_type": "markdown",
   "metadata": {},
   "source": [
    "## Basic operations\n",
    "\n",
    "Unlike many programming languages, in R assignment to variable is done with the \"<-\" operator (but you can use also the \"=\" character):"
   ]
  },
  {
   "cell_type": "code",
   "execution_count": 4,
   "metadata": {
    "vscode": {
     "languageId": "r"
    }
   },
   "outputs": [
    {
     "data": {
      "text/html": [
       "3"
      ],
      "text/latex": [
       "3"
      ],
      "text/markdown": [
       "3"
      ],
      "text/plain": [
       "[1] 3"
      ]
     },
     "metadata": {},
     "output_type": "display_data"
    }
   ],
   "source": [
    "x <- 3\n",
    "x\n",
    "\n",
    "# wierd enought, you can also do this\n",
    "# 4 -> y\n",
    "# y"
   ]
  },
  {
   "cell_type": "markdown",
   "metadata": {},
   "source": [
    "Aritmetic operations are straightforward:"
   ]
  },
  {
   "cell_type": "code",
   "execution_count": 5,
   "metadata": {
    "vscode": {
     "languageId": "r"
    }
   },
   "outputs": [
    {
     "data": {
      "text/html": [
       "'An addition: 5 + 5 '"
      ],
      "text/latex": [
       "'An addition: 5 + 5 '"
      ],
      "text/markdown": [
       "'An addition: 5 + 5 '"
      ],
      "text/plain": [
       "[1] \"An addition: 5 + 5 \""
      ]
     },
     "metadata": {},
     "output_type": "display_data"
    },
    {
     "data": {
      "text/html": [
       "10"
      ],
      "text/latex": [
       "10"
      ],
      "text/markdown": [
       "10"
      ],
      "text/plain": [
       "[1] 10"
      ]
     },
     "metadata": {},
     "output_type": "display_data"
    },
    {
     "data": {
      "text/html": [
       "'A subtraction, with a number expressed in scientific notation: 5 - 5e-2'"
      ],
      "text/latex": [
       "'A subtraction, with a number expressed in scientific notation: 5 - 5e-2'"
      ],
      "text/markdown": [
       "'A subtraction, with a number expressed in scientific notation: 5 - 5e-2'"
      ],
      "text/plain": [
       "[1] \"A subtraction, with a number expressed in scientific notation: 5 - 5e-2\""
      ]
     },
     "metadata": {},
     "output_type": "display_data"
    },
    {
     "data": {
      "text/html": [
       "4.95"
      ],
      "text/latex": [
       "4.95"
      ],
      "text/markdown": [
       "4.95"
      ],
      "text/plain": [
       "[1] 4.95"
      ]
     },
     "metadata": {},
     "output_type": "display_data"
    },
    {
     "data": {
      "text/html": [
       "'Exponentiation: 2^5'"
      ],
      "text/latex": [
       "'Exponentiation: 2\\textasciicircum{}5'"
      ],
      "text/markdown": [
       "'Exponentiation: 2^5'"
      ],
      "text/plain": [
       "[1] \"Exponentiation: 2^5\""
      ]
     },
     "metadata": {},
     "output_type": "display_data"
    },
    {
     "data": {
      "text/html": [
       "32"
      ],
      "text/latex": [
       "32"
      ],
      "text/markdown": [
       "32"
      ],
      "text/plain": [
       "[1] 32"
      ]
     },
     "metadata": {},
     "output_type": "display_data"
    },
    {
     "data": {
      "text/html": [
       "'Modulo: 28%%6'"
      ],
      "text/latex": [
       "'Modulo: 28\\%\\%6'"
      ],
      "text/markdown": [
       "'Modulo: 28%%6'"
      ],
      "text/plain": [
       "[1] \"Modulo: 28%%6\""
      ]
     },
     "metadata": {},
     "output_type": "display_data"
    },
    {
     "data": {
      "text/html": [
       "4"
      ],
      "text/latex": [
       "4"
      ],
      "text/markdown": [
       "4"
      ],
      "text/plain": [
       "[1] 4"
      ]
     },
     "metadata": {},
     "output_type": "display_data"
    }
   ],
   "source": [
    "\"An addition: 5 + 5 \"\n",
    "5 + 5 \n",
    "\n",
    "\"A subtraction, with a number expressed in scientific notation: 5 - 5e-2\"\n",
    "5 - 5e-2\n",
    "\n",
    "\"Exponentiation: 2^5\"\n",
    "2^5\n",
    "\n",
    "\"Modulo: 28%%6\"\n",
    "28%%6"
   ]
  },
  {
   "cell_type": "markdown",
   "metadata": {},
   "source": [
    "## Flow Control\n",
    "\n",
    "R includes all the typical programming elements like IF, FOR , WHILE.....\n",
    "\n"
   ]
  },
  {
   "cell_type": "code",
   "execution_count": null,
   "metadata": {
    "vscode": {
     "languageId": "r"
    }
   },
   "outputs": [],
   "source": [
    "# in python you use tabs for indentation\n",
    "#if (a < 1):\n",
    "#    print(a)\n",
    "#    x = 10\n",
    "\n",
    "# in R you use brackets\n",
    "height_in_cm <- 195\n",
    "\n",
    "if (height_in_cm > 190) {\n",
    "    print(\"Oooohh you are so tall\")\n",
    "    print(\"Great!\")\n",
    "} else {\n",
    "    print(\"You are ok\")\n",
    "}\n"
   ]
  },
  {
   "cell_type": "code",
   "execution_count": null,
   "metadata": {
    "vscode": {
     "languageId": "r"
    }
   },
   "outputs": [],
   "source": [
    "i <- 0\n",
    "while (i < 5){\n",
    "    print(paste0(\"i is still less than 5: \", i))\n",
    "    i <- i + 1\n",
    "}\n",
    "print(\"Finally i is 5\")"
   ]
  },
  {
   "cell_type": "code",
   "execution_count": null,
   "metadata": {
    "vscode": {
     "languageId": "r"
    }
   },
   "outputs": [],
   "source": [
    "### FOR loops are quite special, because they iterate over vectors (see later) and use the keyword \"in\":\n",
    "\n",
    "# x is a vector from 1 to 5\n",
    "x <- 1:5\n",
    "\n",
    "\"x is a vector\"\n",
    "x\n",
    "\n",
    "# the variable i will iterate over the vector x, you do not need to increase it manually\n",
    "for (i in x) {\n",
    "    print(paste0(\"i is still less than 5: \", i))\n",
    "    print(i)\n",
    "}\n",
    "\n",
    "print(\"Finally i is 5\")"
   ]
  },
  {
   "cell_type": "markdown",
   "metadata": {},
   "source": [
    "### next and break \n",
    "\n",
    "When inside a loop (for or while), the special operator **next** force to skip the currect iteration and jump to the next one, while **break** directly exits the loop"
   ]
  },
  {
   "cell_type": "code",
   "execution_count": 6,
   "metadata": {
    "vscode": {
     "languageId": "r"
    }
   },
   "outputs": [
    {
     "name": "stdout",
     "output_type": "stream",
     "text": [
      "[1] 1\n",
      "[1] 2\n",
      "[1] 3\n",
      "[1] 5\n",
      "[1] 6\n",
      "[1] 7\n",
      "[1] 8\n"
     ]
    }
   ],
   "source": [
    "for (i in 1:10) {\n",
    "    if(i == 4) # don't write 4\n",
    "        next\n",
    "    if(i == 9) # we stop the loop at 9\n",
    "        break\n",
    "    print(i)\n",
    "}\n",
    "    "
   ]
  },
  {
   "cell_type": "markdown",
   "metadata": {},
   "source": [
    "## Functions\n",
    "\n",
    "Functions can be defined with the **function** keyword"
   ]
  },
  {
   "cell_type": "code",
   "execution_count": null,
   "metadata": {
    "vscode": {
     "languageId": "r"
    }
   },
   "outputs": [],
   "source": [
    "# in Python functions are like this\n",
    "# def func(base, exponent):\n",
    "#   result = base ** exponent\n",
    "#   return(result)\n",
    "\n",
    "func <- function(base, exponent) {\n",
    "    result <- base ^ exponent\n",
    "    return(result)\n",
    "}\n",
    "\n",
    "# call the function\n",
    "func(2, 3)\n"
   ]
  },
  {
   "cell_type": "markdown",
   "metadata": {},
   "source": [
    "## Basic data types\n",
    "\n",
    "R possesses a few data types: integer, numeric, logical, characters and NA."
   ]
  },
  {
   "cell_type": "code",
   "execution_count": 7,
   "metadata": {
    "vscode": {
     "languageId": "r"
    }
   },
   "outputs": [
    {
     "data": {
      "text/html": [
       "FALSE"
      ],
      "text/latex": [
       "FALSE"
      ],
      "text/markdown": [
       "FALSE"
      ],
      "text/plain": [
       "[1] FALSE"
      ]
     },
     "metadata": {},
     "output_type": "display_data"
    },
    {
     "data": {
      "text/html": [
       "'logical'"
      ],
      "text/latex": [
       "'logical'"
      ],
      "text/markdown": [
       "'logical'"
      ],
      "text/plain": [
       "[1] \"logical\""
      ]
     },
     "metadata": {},
     "output_type": "display_data"
    }
   ],
   "source": [
    "# Numeric variable\n",
    "x1 <- 42\n",
    "\n",
    "# A logical variable\n",
    "x2 <- FALSE\n",
    "\n",
    "# A string variable\n",
    "x3 <- \"universe\"\n",
    "\n",
    "# NA means nota available, the data is messing\n",
    "x4 <- NA\n",
    "\n",
    "# Let's see what it's inside x2\n",
    "x2\n",
    "\n",
    "# you can always check a variable type with \"class\"\n",
    "class(x2)"
   ]
  },
  {
   "cell_type": "markdown",
   "metadata": {},
   "source": [
    "## Vectors\n",
    "\n",
    "Vectors are just an array of elements put into a single variable. <br>\n",
    "In R, *vectors are indexed starting from 1.* <br>\n",
    "The good thing is that R treats them similarly to algebraic vector, so you can do *vectorized* operations, which is a way to avoid loops"
   ]
  },
  {
   "cell_type": "code",
   "execution_count": 8,
   "metadata": {
    "vscode": {
     "languageId": "r"
    }
   },
   "outputs": [
    {
     "data": {
      "text/html": [
       "<style>\n",
       ".list-inline {list-style: none; margin:0; padding: 0}\n",
       ".list-inline>li {display: inline-block}\n",
       ".list-inline>li:not(:last-child)::after {content: \"\\00b7\"; padding: 0 .5ex}\n",
       "</style>\n",
       "<ol class=list-inline><li>1</li><li>2</li><li>10</li><li>6</li><li>49</li><li>101</li><li>155</li><li>8</li></ol>\n"
      ],
      "text/latex": [
       "\\begin{enumerate*}\n",
       "\\item 1\n",
       "\\item 2\n",
       "\\item 10\n",
       "\\item 6\n",
       "\\item 49\n",
       "\\item 101\n",
       "\\item 155\n",
       "\\item 8\n",
       "\\end{enumerate*}\n"
      ],
      "text/markdown": [
       "1. 1\n",
       "2. 2\n",
       "3. 10\n",
       "4. 6\n",
       "5. 49\n",
       "6. 101\n",
       "7. 155\n",
       "8. 8\n",
       "\n",
       "\n"
      ],
      "text/plain": [
       "[1]   1   2  10   6  49 101 155   8"
      ]
     },
     "metadata": {},
     "output_type": "display_data"
    },
    {
     "data": {
      "text/html": [
       "<style>\n",
       ".list-inline {list-style: none; margin:0; padding: 0}\n",
       ".list-inline>li {display: inline-block}\n",
       ".list-inline>li:not(:last-child)::after {content: \"\\00b7\"; padding: 0 .5ex}\n",
       "</style>\n",
       "<ol class=list-inline><li>'a'</li><li>'b'</li><li>'c'</li></ol>\n"
      ],
      "text/latex": [
       "\\begin{enumerate*}\n",
       "\\item 'a'\n",
       "\\item 'b'\n",
       "\\item 'c'\n",
       "\\end{enumerate*}\n"
      ],
      "text/markdown": [
       "1. 'a'\n",
       "2. 'b'\n",
       "3. 'c'\n",
       "\n",
       "\n"
      ],
      "text/plain": [
       "[1] \"a\" \"b\" \"c\""
      ]
     },
     "metadata": {},
     "output_type": "display_data"
    },
    {
     "data": {
      "text/html": [
       "<style>\n",
       ".list-inline {list-style: none; margin:0; padding: 0}\n",
       ".list-inline>li {display: inline-block}\n",
       ".list-inline>li:not(:last-child)::after {content: \"\\00b7\"; padding: 0 .5ex}\n",
       "</style>\n",
       "<ol class=list-inline><li>1</li><li>2</li><li>3</li><li>4</li><li>5</li><li>6</li><li>7</li><li>8</li><li>9</li><li>10</li></ol>\n"
      ],
      "text/latex": [
       "\\begin{enumerate*}\n",
       "\\item 1\n",
       "\\item 2\n",
       "\\item 3\n",
       "\\item 4\n",
       "\\item 5\n",
       "\\item 6\n",
       "\\item 7\n",
       "\\item 8\n",
       "\\item 9\n",
       "\\item 10\n",
       "\\end{enumerate*}\n"
      ],
      "text/markdown": [
       "1. 1\n",
       "2. 2\n",
       "3. 3\n",
       "4. 4\n",
       "5. 5\n",
       "6. 6\n",
       "7. 7\n",
       "8. 8\n",
       "9. 9\n",
       "10. 10\n",
       "\n",
       "\n"
      ],
      "text/plain": [
       " [1]  1  2  3  4  5  6  7  8  9 10"
      ]
     },
     "metadata": {},
     "output_type": "display_data"
    }
   ],
   "source": [
    "# Create vectors using the \"c\" (concatenate) function\n",
    "numbers <- c(1, 2, 10, 6, 49, 101, 155, 8)\n",
    "characters <- c(\"a\", \"b\", \"c\")\n",
    "# the colon operator creates interger sequences (also check out the seq() function )\n",
    "sequence <- 1:10\n",
    "\n",
    "numbers\n",
    "characters\n",
    "sequence"
   ]
  },
  {
   "cell_type": "markdown",
   "metadata": {},
   "source": [
    "### Indexing vectors"
   ]
  },
  {
   "cell_type": "code",
   "execution_count": 9,
   "metadata": {
    "vscode": {
     "languageId": "r"
    }
   },
   "outputs": [
    {
     "data": {
      "text/html": [
       "<style>\n",
       ".list-inline {list-style: none; margin:0; padding: 0}\n",
       ".list-inline>li {display: inline-block}\n",
       ".list-inline>li:not(:last-child)::after {content: \"\\00b7\"; padding: 0 .5ex}\n",
       "</style>\n",
       "<ol class=list-inline><li>20</li><li>21</li><li>22</li><li>23</li><li>24</li><li>25</li><li>26</li><li>27</li><li>28</li><li>29</li><li>30</li></ol>\n"
      ],
      "text/latex": [
       "\\begin{enumerate*}\n",
       "\\item 20\n",
       "\\item 21\n",
       "\\item 22\n",
       "\\item 23\n",
       "\\item 24\n",
       "\\item 25\n",
       "\\item 26\n",
       "\\item 27\n",
       "\\item 28\n",
       "\\item 29\n",
       "\\item 30\n",
       "\\end{enumerate*}\n"
      ],
      "text/markdown": [
       "1. 20\n",
       "2. 21\n",
       "3. 22\n",
       "4. 23\n",
       "5. 24\n",
       "6. 25\n",
       "7. 26\n",
       "8. 27\n",
       "9. 28\n",
       "10. 29\n",
       "11. 30\n",
       "\n",
       "\n"
      ],
      "text/plain": [
       " [1] 20 21 22 23 24 25 26 27 28 29 30"
      ]
     },
     "metadata": {},
     "output_type": "display_data"
    },
    {
     "data": {
      "text/html": [
       "'The fourth element'"
      ],
      "text/latex": [
       "'The fourth element'"
      ],
      "text/markdown": [
       "'The fourth element'"
      ],
      "text/plain": [
       "[1] \"The fourth element\""
      ]
     },
     "metadata": {},
     "output_type": "display_data"
    },
    {
     "data": {
      "text/html": [
       "23"
      ],
      "text/latex": [
       "23"
      ],
      "text/markdown": [
       "23"
      ],
      "text/plain": [
       "[1] 23"
      ]
     },
     "metadata": {},
     "output_type": "display_data"
    },
    {
     "data": {
      "text/html": [
       "'All but the fourth'"
      ],
      "text/latex": [
       "'All but the fourth'"
      ],
      "text/markdown": [
       "'All but the fourth'"
      ],
      "text/plain": [
       "[1] \"All but the fourth\""
      ]
     },
     "metadata": {},
     "output_type": "display_data"
    },
    {
     "data": {
      "text/html": [
       "<style>\n",
       ".list-inline {list-style: none; margin:0; padding: 0}\n",
       ".list-inline>li {display: inline-block}\n",
       ".list-inline>li:not(:last-child)::after {content: \"\\00b7\"; padding: 0 .5ex}\n",
       "</style>\n",
       "<ol class=list-inline><li>20</li><li>21</li><li>22</li><li>24</li><li>25</li><li>26</li><li>27</li><li>28</li><li>29</li><li>30</li></ol>\n"
      ],
      "text/latex": [
       "\\begin{enumerate*}\n",
       "\\item 20\n",
       "\\item 21\n",
       "\\item 22\n",
       "\\item 24\n",
       "\\item 25\n",
       "\\item 26\n",
       "\\item 27\n",
       "\\item 28\n",
       "\\item 29\n",
       "\\item 30\n",
       "\\end{enumerate*}\n"
      ],
      "text/markdown": [
       "1. 20\n",
       "2. 21\n",
       "3. 22\n",
       "4. 24\n",
       "5. 25\n",
       "6. 26\n",
       "7. 27\n",
       "8. 28\n",
       "9. 29\n",
       "10. 30\n",
       "\n",
       "\n"
      ],
      "text/plain": [
       " [1] 20 21 22 24 25 26 27 28 29 30"
      ]
     },
     "metadata": {},
     "output_type": "display_data"
    }
   ],
   "source": [
    "x <- 20:30\n",
    "x\n",
    "\n",
    "\"The fourth element\"\n",
    "x[4] \n",
    "\n",
    "\"All but the fourth\"\n",
    "x[-4] \n",
    "\n",
    "\n"
   ]
  },
  {
   "cell_type": "markdown",
   "metadata": {},
   "source": [
    "#### Indexing vectors with another vector"
   ]
  },
  {
   "cell_type": "code",
   "execution_count": 10,
   "metadata": {
    "vscode": {
     "languageId": "r"
    }
   },
   "outputs": [
    {
     "data": {
      "text/html": [
       "'Use a vector to index another vector'"
      ],
      "text/latex": [
       "'Use a vector to index another vector'"
      ],
      "text/markdown": [
       "'Use a vector to index another vector'"
      ],
      "text/plain": [
       "[1] \"Use a vector to index another vector\""
      ]
     },
     "metadata": {},
     "output_type": "display_data"
    },
    {
     "data": {
      "text/html": [
       "<style>\n",
       ".list-inline {list-style: none; margin:0; padding: 0}\n",
       ".list-inline>li {display: inline-block}\n",
       ".list-inline>li:not(:last-child)::after {content: \"\\00b7\"; padding: 0 .5ex}\n",
       "</style>\n",
       "<ol class=list-inline><li>20</li><li>21</li><li>27</li></ol>\n"
      ],
      "text/latex": [
       "\\begin{enumerate*}\n",
       "\\item 20\n",
       "\\item 21\n",
       "\\item 27\n",
       "\\end{enumerate*}\n"
      ],
      "text/markdown": [
       "1. 20\n",
       "2. 21\n",
       "3. 27\n",
       "\n",
       "\n"
      ],
      "text/plain": [
       "[1] 20 21 27"
      ]
     },
     "metadata": {},
     "output_type": "display_data"
    },
    {
     "data": {
      "text/html": [
       "'Elements two to four'"
      ],
      "text/latex": [
       "'Elements two to four'"
      ],
      "text/markdown": [
       "'Elements two to four'"
      ],
      "text/plain": [
       "[1] \"Elements two to four\""
      ]
     },
     "metadata": {},
     "output_type": "display_data"
    },
    {
     "data": {
      "text/html": [
       "<style>\n",
       ".list-inline {list-style: none; margin:0; padding: 0}\n",
       ".list-inline>li {display: inline-block}\n",
       ".list-inline>li:not(:last-child)::after {content: \"\\00b7\"; padding: 0 .5ex}\n",
       "</style>\n",
       "<ol class=list-inline><li>21</li><li>22</li><li>23</li></ol>\n"
      ],
      "text/latex": [
       "\\begin{enumerate*}\n",
       "\\item 21\n",
       "\\item 22\n",
       "\\item 23\n",
       "\\end{enumerate*}\n"
      ],
      "text/markdown": [
       "1. 21\n",
       "2. 22\n",
       "3. 23\n",
       "\n",
       "\n"
      ],
      "text/plain": [
       "[1] 21 22 23"
      ]
     },
     "metadata": {},
     "output_type": "display_data"
    },
    {
     "data": {
      "text/html": [
       "'All Elements except one and five.'"
      ],
      "text/latex": [
       "'All Elements except one and five.'"
      ],
      "text/markdown": [
       "'All Elements except one and five.'"
      ],
      "text/plain": [
       "[1] \"All Elements except one and five.\""
      ]
     },
     "metadata": {},
     "output_type": "display_data"
    },
    {
     "data": {
      "text/html": [
       "<style>\n",
       ".list-inline {list-style: none; margin:0; padding: 0}\n",
       ".list-inline>li {display: inline-block}\n",
       ".list-inline>li:not(:last-child)::after {content: \"\\00b7\"; padding: 0 .5ex}\n",
       "</style>\n",
       "<ol class=list-inline><li>21</li><li>22</li><li>23</li><li>25</li><li>26</li><li>27</li><li>28</li><li>29</li><li>30</li></ol>\n"
      ],
      "text/latex": [
       "\\begin{enumerate*}\n",
       "\\item 21\n",
       "\\item 22\n",
       "\\item 23\n",
       "\\item 25\n",
       "\\item 26\n",
       "\\item 27\n",
       "\\item 28\n",
       "\\item 29\n",
       "\\item 30\n",
       "\\end{enumerate*}\n"
      ],
      "text/markdown": [
       "1. 21\n",
       "2. 22\n",
       "3. 23\n",
       "4. 25\n",
       "5. 26\n",
       "6. 27\n",
       "7. 28\n",
       "8. 29\n",
       "9. 30\n",
       "\n",
       "\n"
      ],
      "text/plain": [
       "[1] 21 22 23 25 26 27 28 29 30"
      ]
     },
     "metadata": {},
     "output_type": "display_data"
    }
   ],
   "source": [
    "x <- 20:30\n",
    "\n",
    "\"Use a vector to index another vector\"\n",
    "x[c(1, 2, 8)] \n",
    "\n",
    "\"Elements two to four\"\n",
    "x[2:4] \n",
    "\n",
    "\"All Elements except one and five.\"\n",
    "x[-c(1, 5)] \n"
   ]
  },
  {
   "cell_type": "markdown",
   "metadata": {},
   "source": [
    "### Vector names"
   ]
  },
  {
   "cell_type": "code",
   "execution_count": 11,
   "metadata": {
    "vscode": {
     "languageId": "r"
    }
   },
   "outputs": [
    {
     "data": {
      "text/html": [
       "'The vector without names'"
      ],
      "text/latex": [
       "'The vector without names'"
      ],
      "text/markdown": [
       "'The vector without names'"
      ],
      "text/plain": [
       "[1] \"The vector without names\""
      ]
     },
     "metadata": {},
     "output_type": "display_data"
    },
    {
     "data": {
      "text/html": [
       "<style>\n",
       ".list-inline {list-style: none; margin:0; padding: 0}\n",
       ".list-inline>li {display: inline-block}\n",
       ".list-inline>li:not(:last-child)::after {content: \"\\00b7\"; padding: 0 .5ex}\n",
       "</style>\n",
       "<ol class=list-inline><li>1</li><li>2</li><li>3</li><li>4</li><li>5</li><li>6</li><li>7</li><li>8</li><li>9</li><li>10</li></ol>\n"
      ],
      "text/latex": [
       "\\begin{enumerate*}\n",
       "\\item 1\n",
       "\\item 2\n",
       "\\item 3\n",
       "\\item 4\n",
       "\\item 5\n",
       "\\item 6\n",
       "\\item 7\n",
       "\\item 8\n",
       "\\item 9\n",
       "\\item 10\n",
       "\\end{enumerate*}\n"
      ],
      "text/markdown": [
       "1. 1\n",
       "2. 2\n",
       "3. 3\n",
       "4. 4\n",
       "5. 5\n",
       "6. 6\n",
       "7. 7\n",
       "8. 8\n",
       "9. 9\n",
       "10. 10\n",
       "\n",
       "\n"
      ],
      "text/plain": [
       " [1]  1  2  3  4  5  6  7  8  9 10"
      ]
     },
     "metadata": {},
     "output_type": "display_data"
    },
    {
     "data": {
      "text/html": [
       "'The vector with names'"
      ],
      "text/latex": [
       "'The vector with names'"
      ],
      "text/markdown": [
       "'The vector with names'"
      ],
      "text/plain": [
       "[1] \"The vector with names\""
      ]
     },
     "metadata": {},
     "output_type": "display_data"
    },
    {
     "data": {
      "text/html": [
       "<style>\n",
       ".dl-inline {width: auto; margin:0; padding: 0}\n",
       ".dl-inline>dt, .dl-inline>dd {float: none; width: auto; display: inline-block}\n",
       ".dl-inline>dt::after {content: \":\\0020\"; padding-right: .5ex}\n",
       ".dl-inline>dt:not(:first-of-type) {padding-left: .5ex}\n",
       "</style><dl class=dl-inline><dt>One</dt><dd>1</dd><dt>Two</dt><dd>2</dd><dt>Three</dt><dd>3</dd><dt>Four</dt><dd>4</dd><dt>Five</dt><dd>5</dd><dt>Six</dt><dd>6</dd><dt>Seven</dt><dd>7</dd><dt>Eight</dt><dd>8</dd><dt>Nine</dt><dd>9</dd><dt>Ten</dt><dd>10</dd></dl>\n"
      ],
      "text/latex": [
       "\\begin{description*}\n",
       "\\item[One] 1\n",
       "\\item[Two] 2\n",
       "\\item[Three] 3\n",
       "\\item[Four] 4\n",
       "\\item[Five] 5\n",
       "\\item[Six] 6\n",
       "\\item[Seven] 7\n",
       "\\item[Eight] 8\n",
       "\\item[Nine] 9\n",
       "\\item[Ten] 10\n",
       "\\end{description*}\n"
      ],
      "text/markdown": [
       "One\n",
       ":   1Two\n",
       ":   2Three\n",
       ":   3Four\n",
       ":   4Five\n",
       ":   5Six\n",
       ":   6Seven\n",
       ":   7Eight\n",
       ":   8Nine\n",
       ":   9Ten\n",
       ":   10\n",
       "\n"
      ],
      "text/plain": [
       "  One   Two Three  Four  Five   Six Seven Eight  Nine   Ten \n",
       "    1     2     3     4     5     6     7     8     9    10 "
      ]
     },
     "metadata": {},
     "output_type": "display_data"
    },
    {
     "data": {
      "text/html": [
       "'Only the names (which is a vector itself)'"
      ],
      "text/latex": [
       "'Only the names (which is a vector itself)'"
      ],
      "text/markdown": [
       "'Only the names (which is a vector itself)'"
      ],
      "text/plain": [
       "[1] \"Only the names (which is a vector itself)\""
      ]
     },
     "metadata": {},
     "output_type": "display_data"
    },
    {
     "data": {
      "text/html": [
       "<style>\n",
       ".list-inline {list-style: none; margin:0; padding: 0}\n",
       ".list-inline>li {display: inline-block}\n",
       ".list-inline>li:not(:last-child)::after {content: \"\\00b7\"; padding: 0 .5ex}\n",
       "</style>\n",
       "<ol class=list-inline><li>'One'</li><li>'Two'</li><li>'Three'</li><li>'Four'</li><li>'Five'</li><li>'Six'</li><li>'Seven'</li><li>'Eight'</li><li>'Nine'</li><li>'Ten'</li></ol>\n"
      ],
      "text/latex": [
       "\\begin{enumerate*}\n",
       "\\item 'One'\n",
       "\\item 'Two'\n",
       "\\item 'Three'\n",
       "\\item 'Four'\n",
       "\\item 'Five'\n",
       "\\item 'Six'\n",
       "\\item 'Seven'\n",
       "\\item 'Eight'\n",
       "\\item 'Nine'\n",
       "\\item 'Ten'\n",
       "\\end{enumerate*}\n"
      ],
      "text/markdown": [
       "1. 'One'\n",
       "2. 'Two'\n",
       "3. 'Three'\n",
       "4. 'Four'\n",
       "5. 'Five'\n",
       "6. 'Six'\n",
       "7. 'Seven'\n",
       "8. 'Eight'\n",
       "9. 'Nine'\n",
       "10. 'Ten'\n",
       "\n",
       "\n"
      ],
      "text/plain": [
       " [1] \"One\"   \"Two\"   \"Three\" \"Four\"  \"Five\"  \"Six\"   \"Seven\" \"Eight\" \"Nine\" \n",
       "[10] \"Ten\"  "
      ]
     },
     "metadata": {},
     "output_type": "display_data"
    }
   ],
   "source": [
    "x <- 1:10\n",
    "\"The vector without names\"\n",
    "x\n",
    "\n",
    "# You can give names to the vector elements\"\n",
    "names(x) <- c(\"One\", \"Two\", \"Three\", \"Four\", \"Five\", \"Six\", \"Seven\", \"Eight\", \"Nine\", \"Ten\")\n",
    "\n",
    "\"The vector with names\"\n",
    "x\n",
    "\n",
    "\"Only the names (which is a vector itself)\"\n",
    "names(x)\n"
   ]
  },
  {
   "cell_type": "markdown",
   "metadata": {},
   "source": [
    "## NA \n",
    "\n",
    "NA simply indicates that the value is missing, and it is a type for itself. Be careful that doing operations of NAs may return a NA!"
   ]
  },
  {
   "cell_type": "code",
   "execution_count": 12,
   "metadata": {
    "vscode": {
     "languageId": "r"
    }
   },
   "outputs": [
    {
     "data": {
      "text/html": [
       "' if we take the mean of the vector, we get a NA'"
      ],
      "text/latex": [
       "' if we take the mean of the vector, we get a NA'"
      ],
      "text/markdown": [
       "' if we take the mean of the vector, we get a NA'"
      ],
      "text/plain": [
       "[1] \" if we take the mean of the vector, we get a NA\""
      ]
     },
     "metadata": {},
     "output_type": "display_data"
    },
    {
     "data": {
      "text/html": [
       "&lt;NA&gt;"
      ],
      "text/latex": [
       "<NA>"
      ],
      "text/markdown": [
       "&lt;NA&gt;"
      ],
      "text/plain": [
       "[1] NA"
      ]
     },
     "metadata": {},
     "output_type": "display_data"
    },
    {
     "data": {
      "text/html": [
       "' which can be avoided by ignoring the NAs'"
      ],
      "text/latex": [
       "' which can be avoided by ignoring the NAs'"
      ],
      "text/markdown": [
       "' which can be avoided by ignoring the NAs'"
      ],
      "text/plain": [
       "[1] \" which can be avoided by ignoring the NAs\""
      ]
     },
     "metadata": {},
     "output_type": "display_data"
    },
    {
     "data": {
      "text/html": [
       "2.75"
      ],
      "text/latex": [
       "2.75"
      ],
      "text/markdown": [
       "2.75"
      ],
      "text/plain": [
       "[1] 2.75"
      ]
     },
     "metadata": {},
     "output_type": "display_data"
    }
   ],
   "source": [
    "# a vector containing a missing value\n",
    "vec <- c(1, 2, 3, NA, 5)\n",
    "\n",
    "\" if we take the mean of the vector, we get a NA\"\n",
    "mean(vec)\n",
    "\n",
    "\" which can be avoided by ignoring the NAs\"\n",
    "mean(vec, na.rm=T)"
   ]
  },
  {
   "cell_type": "markdown",
   "metadata": {},
   "source": [
    "### Example: plotting\n",
    "\n",
    "plot() is the basic R function for plotting. The resulting plot depends on the data you provide, but in general is a scatterplot."
   ]
  },
  {
   "cell_type": "code",
   "execution_count": 16,
   "metadata": {
    "vscode": {
     "languageId": "r"
    }
   },
   "outputs": [
    {
     "data": {
      "image/png": "[encoded data removed]",
      "text/plain": [
       "plot without title"
      ]
     },
     "metadata": {
      "image/png": {
       "height": 420,
       "width": 420
      }
     },
     "output_type": "display_data"
    },
    {
     "data": {
      "image/png": "[encoded data removed]",
      "text/plain": [
       "plot without title"
      ]
     },
     "metadata": {
      "image/png": {
       "height": 420,
       "width": 420
      }
     },
     "output_type": "display_data"
    },
    {
     "data": {
      "image/png": "[encoded data removed]",
      "text/plain": [
       "plot without title"
      ]
     },
     "metadata": {
      "image/png": {
       "height": 420,
       "width": 420
      }
     },
     "output_type": "display_data"
    },
    {
     "data": {
      "image/png": "[encoded data removed]",
      "text/plain": [
       "Plot with title “Histogram of x”"
      ]
     },
     "metadata": {
      "image/png": {
       "height": 420,
       "width": 420
      }
     },
     "output_type": "display_data"
    }
   ],
   "source": [
    "x <- 1:10\n",
    "y <- c(12, 25, 11, 3, 24, 30, 12, 34, 10, 6)\n",
    "\n",
    "plot(x, y)\n",
    "plot(x)\n",
    "barplot(y)\n",
    "hist(x)"
   ]
  },
  {
   "cell_type": "markdown",
   "metadata": {},
   "source": [
    "### Vectorization\n",
    "\n",
    "As noted before R automatically **vectorize** operations that involve vectors and non-vectors (another way to avoid loops)"
   ]
  },
  {
   "cell_type": "code",
   "execution_count": 17,
   "metadata": {
    "vscode": {
     "languageId": "r"
    }
   },
   "outputs": [
    {
     "data": {
      "text/html": [
       "'Elements positions which are equal to 10.'"
      ],
      "text/latex": [
       "'Elements positions which are equal to 10.'"
      ],
      "text/markdown": [
       "'Elements positions which are equal to 10.'"
      ],
      "text/plain": [
       "[1] \"Elements positions which are equal to 10.\""
      ]
     },
     "metadata": {},
     "output_type": "display_data"
    },
    {
     "data": {
      "text/html": [
       "<style>\n",
       ".list-inline {list-style: none; margin:0; padding: 0}\n",
       ".list-inline>li {display: inline-block}\n",
       ".list-inline>li:not(:last-child)::after {content: \"\\00b7\"; padding: 0 .5ex}\n",
       "</style>\n",
       "<ol class=list-inline><li>FALSE</li><li>FALSE</li><li>FALSE</li><li>FALSE</li><li>FALSE</li><li>FALSE</li><li>FALSE</li><li>FALSE</li><li>FALSE</li><li>TRUE</li></ol>\n"
      ],
      "text/latex": [
       "\\begin{enumerate*}\n",
       "\\item FALSE\n",
       "\\item FALSE\n",
       "\\item FALSE\n",
       "\\item FALSE\n",
       "\\item FALSE\n",
       "\\item FALSE\n",
       "\\item FALSE\n",
       "\\item FALSE\n",
       "\\item FALSE\n",
       "\\item TRUE\n",
       "\\end{enumerate*}\n"
      ],
      "text/markdown": [
       "1. FALSE\n",
       "2. FALSE\n",
       "3. FALSE\n",
       "4. FALSE\n",
       "5. FALSE\n",
       "6. FALSE\n",
       "7. FALSE\n",
       "8. FALSE\n",
       "9. FALSE\n",
       "10. TRUE\n",
       "\n",
       "\n"
      ],
      "text/plain": [
       " [1] FALSE FALSE FALSE FALSE FALSE FALSE FALSE FALSE FALSE  TRUE"
      ]
     },
     "metadata": {},
     "output_type": "display_data"
    },
    {
     "data": {
      "text/html": [
       "'Elements which are equal to 10.'"
      ],
      "text/latex": [
       "'Elements which are equal to 10.'"
      ],
      "text/markdown": [
       "'Elements which are equal to 10.'"
      ],
      "text/plain": [
       "[1] \"Elements which are equal to 10.\""
      ]
     },
     "metadata": {},
     "output_type": "display_data"
    },
    {
     "data": {
      "text/html": [
       "10"
      ],
      "text/latex": [
       "10"
      ],
      "text/markdown": [
       "10"
      ],
      "text/plain": [
       "[1] 10"
      ]
     },
     "metadata": {},
     "output_type": "display_data"
    },
    {
     "data": {
      "text/html": [
       "'All elements less than 10'"
      ],
      "text/latex": [
       "'All elements less than 10'"
      ],
      "text/markdown": [
       "'All elements less than 10'"
      ],
      "text/plain": [
       "[1] \"All elements less than 10\""
      ]
     },
     "metadata": {},
     "output_type": "display_data"
    },
    {
     "data": {
      "text/html": [
       "<style>\n",
       ".list-inline {list-style: none; margin:0; padding: 0}\n",
       ".list-inline>li {display: inline-block}\n",
       ".list-inline>li:not(:last-child)::after {content: \"\\00b7\"; padding: 0 .5ex}\n",
       "</style>\n",
       "<ol class=list-inline><li>1</li><li>2</li><li>3</li><li>4</li><li>5</li><li>6</li><li>7</li><li>8</li><li>9</li></ol>\n"
      ],
      "text/latex": [
       "\\begin{enumerate*}\n",
       "\\item 1\n",
       "\\item 2\n",
       "\\item 3\n",
       "\\item 4\n",
       "\\item 5\n",
       "\\item 6\n",
       "\\item 7\n",
       "\\item 8\n",
       "\\item 9\n",
       "\\end{enumerate*}\n"
      ],
      "text/markdown": [
       "1. 1\n",
       "2. 2\n",
       "3. 3\n",
       "4. 4\n",
       "5. 5\n",
       "6. 6\n",
       "7. 7\n",
       "8. 8\n",
       "9. 9\n",
       "\n",
       "\n"
      ],
      "text/plain": [
       "[1] 1 2 3 4 5 6 7 8 9"
      ]
     },
     "metadata": {},
     "output_type": "display_data"
    },
    {
     "data": {
      "text/html": [
       "'Elements in the set 1, 2, 5.'"
      ],
      "text/latex": [
       "'Elements in the set 1, 2, 5.'"
      ],
      "text/markdown": [
       "'Elements in the set 1, 2, 5.'"
      ],
      "text/plain": [
       "[1] \"Elements in the set 1, 2, 5.\""
      ]
     },
     "metadata": {},
     "output_type": "display_data"
    },
    {
     "data": {
      "text/html": [
       "<style>\n",
       ".list-inline {list-style: none; margin:0; padding: 0}\n",
       ".list-inline>li {display: inline-block}\n",
       ".list-inline>li:not(:last-child)::after {content: \"\\00b7\"; padding: 0 .5ex}\n",
       "</style>\n",
       "<ol class=list-inline><li>1</li><li>2</li><li>5</li></ol>\n"
      ],
      "text/latex": [
       "\\begin{enumerate*}\n",
       "\\item 1\n",
       "\\item 2\n",
       "\\item 5\n",
       "\\end{enumerate*}\n"
      ],
      "text/markdown": [
       "1. 1\n",
       "2. 2\n",
       "3. 5\n",
       "\n",
       "\n"
      ],
      "text/plain": [
       "[1] 1 2 5"
      ]
     },
     "metadata": {},
     "output_type": "display_data"
    },
    {
     "data": {
      "text/html": [
       "'Elements not it the set 1, 2, 5.'"
      ],
      "text/latex": [
       "'Elements not it the set 1, 2, 5.'"
      ],
      "text/markdown": [
       "'Elements not it the set 1, 2, 5.'"
      ],
      "text/plain": [
       "[1] \"Elements not it the set 1, 2, 5.\""
      ]
     },
     "metadata": {},
     "output_type": "display_data"
    },
    {
     "data": {
      "text/html": [
       "<style>\n",
       ".list-inline {list-style: none; margin:0; padding: 0}\n",
       ".list-inline>li {display: inline-block}\n",
       ".list-inline>li:not(:last-child)::after {content: \"\\00b7\"; padding: 0 .5ex}\n",
       "</style>\n",
       "<ol class=list-inline><li>3</li><li>4</li><li>6</li><li>7</li><li>8</li><li>9</li><li>10</li></ol>\n"
      ],
      "text/latex": [
       "\\begin{enumerate*}\n",
       "\\item 3\n",
       "\\item 4\n",
       "\\item 6\n",
       "\\item 7\n",
       "\\item 8\n",
       "\\item 9\n",
       "\\item 10\n",
       "\\end{enumerate*}\n"
      ],
      "text/markdown": [
       "1. 3\n",
       "2. 4\n",
       "3. 6\n",
       "4. 7\n",
       "5. 8\n",
       "6. 9\n",
       "7. 10\n",
       "\n",
       "\n"
      ],
      "text/plain": [
       "[1]  3  4  6  7  8  9 10"
      ]
     },
     "metadata": {},
     "output_type": "display_data"
    }
   ],
   "source": [
    "x <- 1:10\n",
    "\n",
    "\"Elements positions which are equal to 10.\"\n",
    "x == 10\n",
    "\n",
    "\"Elements which are equal to 10.\"\n",
    "x[x == 10] \n",
    "\n",
    "\"All elements less than 10\"\n",
    "x[x < 10] \n",
    "\n",
    "\"Elements in the set 1, 2, 5.\"\n",
    "x[x %in% c(1, 2, 5)]\n",
    "\n",
    "\n",
    "\"Elements not it the set 1, 2, 5.\"\n",
    "x[!x %in% c(1, 2, 5)]\n"
   ]
  },
  {
   "cell_type": "markdown",
   "metadata": {},
   "source": [
    "This seems a little counterintuitive (some other languages do not possess this property), but it is very useful. For example, you can modify a vector (and also other higher datatypes) in *one shot*:\n"
   ]
  },
  {
   "cell_type": "code",
   "execution_count": 18,
   "metadata": {
    "vscode": {
     "languageId": "r"
    }
   },
   "outputs": [
    {
     "data": {
      "text/html": [
       "'Print x'"
      ],
      "text/latex": [
       "'Print x'"
      ],
      "text/markdown": [
       "'Print x'"
      ],
      "text/plain": [
       "[1] \"Print x\""
      ]
     },
     "metadata": {},
     "output_type": "display_data"
    },
    {
     "data": {
      "text/html": [
       "<style>\n",
       ".list-inline {list-style: none; margin:0; padding: 0}\n",
       ".list-inline>li {display: inline-block}\n",
       ".list-inline>li:not(:last-child)::after {content: \"\\00b7\"; padding: 0 .5ex}\n",
       "</style>\n",
       "<ol class=list-inline><li>1</li><li>2</li><li>3</li><li>4</li><li>5</li><li>6</li><li>7</li><li>8</li><li>9</li><li>10</li></ol>\n"
      ],
      "text/latex": [
       "\\begin{enumerate*}\n",
       "\\item 1\n",
       "\\item 2\n",
       "\\item 3\n",
       "\\item 4\n",
       "\\item 5\n",
       "\\item 6\n",
       "\\item 7\n",
       "\\item 8\n",
       "\\item 9\n",
       "\\item 10\n",
       "\\end{enumerate*}\n"
      ],
      "text/markdown": [
       "1. 1\n",
       "2. 2\n",
       "3. 3\n",
       "4. 4\n",
       "5. 5\n",
       "6. 6\n",
       "7. 7\n",
       "8. 8\n",
       "9. 9\n",
       "10. 10\n",
       "\n",
       "\n"
      ],
      "text/plain": [
       " [1]  1  2  3  4  5  6  7  8  9 10"
      ]
     },
     "metadata": {},
     "output_type": "display_data"
    },
    {
     "data": {
      "text/html": [
       "'Print the elements lower than 5'"
      ],
      "text/latex": [
       "'Print the elements lower than 5'"
      ],
      "text/markdown": [
       "'Print the elements lower than 5'"
      ],
      "text/plain": [
       "[1] \"Print the elements lower than 5\""
      ]
     },
     "metadata": {},
     "output_type": "display_data"
    },
    {
     "data": {
      "text/html": [
       "<style>\n",
       ".list-inline {list-style: none; margin:0; padding: 0}\n",
       ".list-inline>li {display: inline-block}\n",
       ".list-inline>li:not(:last-child)::after {content: \"\\00b7\"; padding: 0 .5ex}\n",
       "</style>\n",
       "<ol class=list-inline><li>1</li><li>2</li><li>3</li><li>4</li></ol>\n"
      ],
      "text/latex": [
       "\\begin{enumerate*}\n",
       "\\item 1\n",
       "\\item 2\n",
       "\\item 3\n",
       "\\item 4\n",
       "\\end{enumerate*}\n"
      ],
      "text/markdown": [
       "1. 1\n",
       "2. 2\n",
       "3. 3\n",
       "4. 4\n",
       "\n",
       "\n"
      ],
      "text/plain": [
       "[1] 1 2 3 4"
      ]
     },
     "metadata": {},
     "output_type": "display_data"
    },
    {
     "data": {
      "text/html": [
       "'Set the elements lower than 5 to zero'"
      ],
      "text/latex": [
       "'Set the elements lower than 5 to zero'"
      ],
      "text/markdown": [
       "'Set the elements lower than 5 to zero'"
      ],
      "text/plain": [
       "[1] \"Set the elements lower than 5 to zero\""
      ]
     },
     "metadata": {},
     "output_type": "display_data"
    },
    {
     "data": {
      "text/html": [
       "<style>\n",
       ".list-inline {list-style: none; margin:0; padding: 0}\n",
       ".list-inline>li {display: inline-block}\n",
       ".list-inline>li:not(:last-child)::after {content: \"\\00b7\"; padding: 0 .5ex}\n",
       "</style>\n",
       "<ol class=list-inline><li>0</li><li>0</li><li>0</li><li>0</li><li>5</li><li>6</li><li>7</li><li>8</li><li>9</li><li>10</li></ol>\n"
      ],
      "text/latex": [
       "\\begin{enumerate*}\n",
       "\\item 0\n",
       "\\item 0\n",
       "\\item 0\n",
       "\\item 0\n",
       "\\item 5\n",
       "\\item 6\n",
       "\\item 7\n",
       "\\item 8\n",
       "\\item 9\n",
       "\\item 10\n",
       "\\end{enumerate*}\n"
      ],
      "text/markdown": [
       "1. 0\n",
       "2. 0\n",
       "3. 0\n",
       "4. 0\n",
       "5. 5\n",
       "6. 6\n",
       "7. 7\n",
       "8. 8\n",
       "9. 9\n",
       "10. 10\n",
       "\n",
       "\n"
      ],
      "text/plain": [
       " [1]  0  0  0  0  5  6  7  8  9 10"
      ]
     },
     "metadata": {},
     "output_type": "display_data"
    },
    {
     "data": {
      "text/html": [
       "'Turn the vector elements into percentages, and round them to 2 decimal points'"
      ],
      "text/latex": [
       "'Turn the vector elements into percentages, and round them to 2 decimal points'"
      ],
      "text/markdown": [
       "'Turn the vector elements into percentages, and round them to 2 decimal points'"
      ],
      "text/plain": [
       "[1] \"Turn the vector elements into percentages, and round them to 2 decimal points\""
      ]
     },
     "metadata": {},
     "output_type": "display_data"
    },
    {
     "data": {
      "text/html": [
       "<style>\n",
       ".list-inline {list-style: none; margin:0; padding: 0}\n",
       ".list-inline>li {display: inline-block}\n",
       ".list-inline>li:not(:last-child)::after {content: \"\\00b7\"; padding: 0 .5ex}\n",
       "</style>\n",
       "<ol class=list-inline><li>0</li><li>0</li><li>0</li><li>0</li><li>11.1111111111111</li><li>13.3333333333333</li><li>15.5555555555556</li><li>17.7777777777778</li><li>20</li><li>22.2222222222222</li></ol>\n"
      ],
      "text/latex": [
       "\\begin{enumerate*}\n",
       "\\item 0\n",
       "\\item 0\n",
       "\\item 0\n",
       "\\item 0\n",
       "\\item 11.1111111111111\n",
       "\\item 13.3333333333333\n",
       "\\item 15.5555555555556\n",
       "\\item 17.7777777777778\n",
       "\\item 20\n",
       "\\item 22.2222222222222\n",
       "\\end{enumerate*}\n"
      ],
      "text/markdown": [
       "1. 0\n",
       "2. 0\n",
       "3. 0\n",
       "4. 0\n",
       "5. 11.1111111111111\n",
       "6. 13.3333333333333\n",
       "7. 15.5555555555556\n",
       "8. 17.7777777777778\n",
       "9. 20\n",
       "10. 22.2222222222222\n",
       "\n",
       "\n"
      ],
      "text/plain": [
       " [1]  0.00000  0.00000  0.00000  0.00000 11.11111 13.33333 15.55556 17.77778\n",
       " [9] 20.00000 22.22222"
      ]
     },
     "metadata": {},
     "output_type": "display_data"
    },
    {
     "data": {
      "text/html": [
       "<style>\n",
       ".list-inline {list-style: none; margin:0; padding: 0}\n",
       ".list-inline>li {display: inline-block}\n",
       ".list-inline>li:not(:last-child)::after {content: \"\\00b7\"; padding: 0 .5ex}\n",
       "</style>\n",
       "<ol class=list-inline><li>0</li><li>0</li><li>0</li><li>0</li><li>11.11</li><li>13.33</li><li>15.56</li><li>17.78</li><li>20</li><li>22.22</li></ol>\n"
      ],
      "text/latex": [
       "\\begin{enumerate*}\n",
       "\\item 0\n",
       "\\item 0\n",
       "\\item 0\n",
       "\\item 0\n",
       "\\item 11.11\n",
       "\\item 13.33\n",
       "\\item 15.56\n",
       "\\item 17.78\n",
       "\\item 20\n",
       "\\item 22.22\n",
       "\\end{enumerate*}\n"
      ],
      "text/markdown": [
       "1. 0\n",
       "2. 0\n",
       "3. 0\n",
       "4. 0\n",
       "5. 11.11\n",
       "6. 13.33\n",
       "7. 15.56\n",
       "8. 17.78\n",
       "9. 20\n",
       "10. 22.22\n",
       "\n",
       "\n"
      ],
      "text/plain": [
       " [1]  0.00  0.00  0.00  0.00 11.11 13.33 15.56 17.78 20.00 22.22"
      ]
     },
     "metadata": {},
     "output_type": "display_data"
    }
   ],
   "source": [
    "x <- 1:10\n",
    "\n",
    "\"Print x\"\n",
    "x\n",
    "\n",
    "\"Print the elements lower than 5\"\n",
    "x[x < 5]\n",
    "\n",
    "\"Set the elements lower than 5 to zero\"\n",
    "x[x < 5] <- 0\n",
    "\n",
    "x\n",
    "\n",
    "\"Turn the vector elements into percentages, and round them to 2 decimal points\"\n",
    "x / sum(x) * 100\n",
    "round(x / sum(x) * 100, 2)"
   ]
  },
  {
   "cell_type": "markdown",
   "metadata": {},
   "source": [
    "## Basic plotting\n",
    "\n",
    "Vectorization can be extremely useful for plotting. In this example we are going to simulate a linear regression, and show how you can out several plot in the same page with the \"par()\" function."
   ]
  },
  {
   "cell_type": "code",
   "execution_count": 19,
   "metadata": {
    "vscode": {
     "languageId": "r"
    }
   },
   "outputs": [
    {
     "data": {
      "image/png": "[encoded data removed]",
      "text/plain": [
       "Plot with title “Histogram of height”"
      ]
     },
     "metadata": {
      "image/png": {
       "height": 420,
       "width": 420
      }
     },
     "output_type": "display_data"
    }
   ],
   "source": [
    "# Simulate the height of 100 people\n",
    "height <- rnorm(n = 100, mean = 175, sd = 10)\n",
    "hist(height)\n"
   ]
  },
  {
   "cell_type": "code",
   "execution_count": 20,
   "metadata": {
    "vscode": {
     "languageId": "r"
    }
   },
   "outputs": [
    {
     "data": {
      "image/png": "[encoded data removed]",
      "text/plain": [
       "Plot with title “Histogram of weight”"
      ]
     },
     "metadata": {
      "image/png": {
       "height": 420,
       "width": 420
      }
     },
     "output_type": "display_data"
    }
   ],
   "source": [
    "# Imagine that the weight = height * 0.4\n",
    "weight <- 10 + height * 0.4\n",
    "hist(weight)\n"
   ]
  },
  {
   "cell_type": "code",
   "execution_count": 21,
   "metadata": {
    "vscode": {
     "languageId": "r"
    }
   },
   "outputs": [
    {
     "data": {
      "image/png": "[encoded data removed]",
      "text/plain": [
       "plot without title"
      ]
     },
     "metadata": {
      "image/png": {
       "height": 420,
       "width": 420
      }
     },
     "output_type": "display_data"
    }
   ],
   "source": [
    "# plot weight against height\n",
    "plot(height, weight)"
   ]
  },
  {
   "cell_type": "code",
   "execution_count": 22,
   "metadata": {
    "vscode": {
     "languageId": "r"
    }
   },
   "outputs": [
    {
     "data": {
      "image/png": "[encoded data removed]",
      "text/plain": [
       "plot without title"
      ]
     },
     "metadata": {
      "image/png": {
       "height": 420,
       "width": 420
      }
     },
     "output_type": "display_data"
    }
   ],
   "source": [
    "# Add some variability (noise)\n",
    "weight <- weight + rnorm(100, 0, 1)\n",
    "plot(height, weight)"
   ]
  },
  {
   "cell_type": "code",
   "execution_count": 23,
   "metadata": {
    "vscode": {
     "languageId": "r"
    }
   },
   "outputs": [
    {
     "data": {
      "text/html": [
       "'Have a look at the linear regression'"
      ],
      "text/latex": [
       "'Have a look at the linear regression'"
      ],
      "text/markdown": [
       "'Have a look at the linear regression'"
      ],
      "text/plain": [
       "[1] \"Have a look at the linear regression\""
      ]
     },
     "metadata": {},
     "output_type": "display_data"
    },
    {
     "data": {
      "text/plain": [
       "\n",
       "Call:\n",
       "lm(formula = weight ~ height)\n",
       "\n",
       "Coefficients:\n",
       "(Intercept)       height  \n",
       "     8.0693       0.4112  \n"
      ]
     },
     "metadata": {},
     "output_type": "display_data"
    }
   ],
   "source": [
    "\n",
    "# the function lm simply perform a linear regressin with the formula y ~ x\n",
    "fit <- lm(weight ~ height) \n",
    "\"Have a look at the linear regression\"\n",
    "fit\n"
   ]
  },
  {
   "cell_type": "code",
   "execution_count": 24,
   "metadata": {
    "vscode": {
     "languageId": "r"
    }
   },
   "outputs": [
    {
     "data": {
      "image/png": "[encoded data removed]",
      "text/plain": [
       "Plot with title “Histogram of weight”"
      ]
     },
     "metadata": {
      "image/png": {
       "height": 420,
       "width": 420
      }
     },
     "output_type": "display_data"
    }
   ],
   "source": [
    "# let's prepare a 2 by 2 plot\n",
    "par(mfrow = c(2,2))\n",
    "# plot the histograms of height and weight\n",
    "hist(height)\n",
    "hist(weight)\n",
    "# plot the relationship between height and weight\n",
    "plot(x = height, y = weight)\n",
    "# plot again the relationship, and add the regression line\n",
    "plot(x = height, y = weight)\n",
    "abline(fit)"
   ]
  },
  {
   "cell_type": "markdown",
   "metadata": {},
   "source": [
    "## Matrix\n",
    "\n",
    "Matrices are just 2-dimensional vector, nothing special really.....They are a collection of elements of the same data type (numeric, character, or logical) arranged into a fixed number of rows and columns. "
   ]
  },
  {
   "cell_type": "code",
   "execution_count": 25,
   "metadata": {
    "vscode": {
     "languageId": "r"
    }
   },
   "outputs": [
    {
     "data": {
      "text/html": [
       "'Print the matrix'"
      ],
      "text/latex": [
       "'Print the matrix'"
      ],
      "text/markdown": [
       "'Print the matrix'"
      ],
      "text/plain": [
       "[1] \"Print the matrix\""
      ]
     },
     "metadata": {},
     "output_type": "display_data"
    },
    {
     "data": {
      "text/html": [
       "<table class=\"dataframe\">\n",
       "<caption>A matrix: 3 × 3 of type int</caption>\n",
       "<tbody>\n",
       "\t<tr><td>1</td><td>4</td><td>7</td></tr>\n",
       "\t<tr><td>2</td><td>5</td><td>8</td></tr>\n",
       "\t<tr><td>3</td><td>6</td><td>9</td></tr>\n",
       "</tbody>\n",
       "</table>\n"
      ],
      "text/latex": [
       "A matrix: 3 × 3 of type int\n",
       "\\begin{tabular}{lll}\n",
       "\t 1 & 4 & 7\\\\\n",
       "\t 2 & 5 & 8\\\\\n",
       "\t 3 & 6 & 9\\\\\n",
       "\\end{tabular}\n"
      ],
      "text/markdown": [
       "\n",
       "A matrix: 3 × 3 of type int\n",
       "\n",
       "| 1 | 4 | 7 |\n",
       "| 2 | 5 | 8 |\n",
       "| 3 | 6 | 9 |\n",
       "\n"
      ],
      "text/plain": [
       "     [,1] [,2] [,3]\n",
       "[1,] 1    4    7   \n",
       "[2,] 2    5    8   \n",
       "[3,] 3    6    9   "
      ]
     },
     "metadata": {},
     "output_type": "display_data"
    },
    {
     "data": {
      "text/html": [
       "'Print the matrix by row'"
      ],
      "text/latex": [
       "'Print the matrix by row'"
      ],
      "text/markdown": [
       "'Print the matrix by row'"
      ],
      "text/plain": [
       "[1] \"Print the matrix by row\""
      ]
     },
     "metadata": {},
     "output_type": "display_data"
    },
    {
     "data": {
      "text/html": [
       "<table class=\"dataframe\">\n",
       "<caption>A matrix: 3 × 3 of type int</caption>\n",
       "<tbody>\n",
       "\t<tr><td>1</td><td>2</td><td>3</td></tr>\n",
       "\t<tr><td>4</td><td>5</td><td>6</td></tr>\n",
       "\t<tr><td>7</td><td>8</td><td>9</td></tr>\n",
       "</tbody>\n",
       "</table>\n"
      ],
      "text/latex": [
       "A matrix: 3 × 3 of type int\n",
       "\\begin{tabular}{lll}\n",
       "\t 1 & 2 & 3\\\\\n",
       "\t 4 & 5 & 6\\\\\n",
       "\t 7 & 8 & 9\\\\\n",
       "\\end{tabular}\n"
      ],
      "text/markdown": [
       "\n",
       "A matrix: 3 × 3 of type int\n",
       "\n",
       "| 1 | 2 | 3 |\n",
       "| 4 | 5 | 6 |\n",
       "| 7 | 8 | 9 |\n",
       "\n"
      ],
      "text/plain": [
       "     [,1] [,2] [,3]\n",
       "[1,] 1    2    3   \n",
       "[2,] 4    5    6   \n",
       "[3,] 7    8    9   "
      ]
     },
     "metadata": {},
     "output_type": "display_data"
    }
   ],
   "source": [
    "# There are several way to create a matrix, one is to turn a vector into a matrix\n",
    "x <- 1:9\n",
    "m <- matrix(x, nrow = 3, ncol = 3)\n",
    "\n",
    "\"Print the matrix\"\n",
    "m\n",
    "\n",
    "# by default elements are entered into the matrix by column, but you can do it by row\n",
    "m <- matrix(x, nrow = 3, ncol = 3, byrow = T)\n",
    "\n",
    "\"Print the matrix by row\"\n",
    "m\n",
    "\n"
   ]
  },
  {
   "cell_type": "markdown",
   "metadata": {},
   "source": [
    "### Subsetting matrices\n",
    "\n",
    "matrices can be easily subsetted by their indices. \\\\\n",
    "*Warning: selecting only one row or column automatically returns a vector, which can produce later undesired results. use drop=F to avoid this"
   ]
  },
  {
   "cell_type": "code",
   "execution_count": null,
   "metadata": {
    "vscode": {
     "languageId": "r"
    }
   },
   "outputs": [],
   "source": [
    "x <- 1:9\n",
    "m <- matrix(x, nrow = 3, ncol = 3, byrow = T)\n",
    "m\n",
    "\n",
    "\"Get the element in position 1, 2\"\n",
    "m[1, 2]\n",
    "\n",
    "\"Get the the second and third column\"\n",
    "m[, 2:3]\n",
    "\n",
    "\n",
    "\"Get the first row (be careful, the result is a vector, use drop=F to avoid it)\"\n",
    "m[1, ]\n",
    "m[1,,drop=F]\n"
   ]
  },
  {
   "cell_type": "markdown",
   "metadata": {},
   "source": [
    "### Matrix algebra operations\n",
    "\n",
    "Matrices can be used to do any kind of algebraic operation.\n",
    "\n",
    "check more at: https://www.statmethods.net/advstats/matrix.html"
   ]
  },
  {
   "cell_type": "code",
   "execution_count": null,
   "metadata": {
    "vscode": {
     "languageId": "r"
    }
   },
   "outputs": [],
   "source": [
    "m\n",
    "\n",
    "\"Matrix multiplication\"\n",
    "m %*% m\n",
    "\n",
    "\"transpose\"\n",
    "t(m)\n",
    "\n",
    "\"Determinant\"\n",
    "det(m)\n",
    "\n",
    "\"Sum of the rows\"\n",
    "rowSums(m)"
   ]
  },
  {
   "cell_type": "markdown",
   "metadata": {},
   "source": [
    "### Columns and rows names"
   ]
  },
  {
   "cell_type": "code",
   "execution_count": null,
   "metadata": {
    "vscode": {
     "languageId": "r"
    }
   },
   "outputs": [],
   "source": [
    "rownames(m) <- c(\"one\", \"two\", \"three\")\n",
    "colnames(m) <- c(\"uno\", \"dos\", \"tres\")\n",
    "m"
   ]
  },
  {
   "cell_type": "markdown",
   "metadata": {},
   "source": [
    "### Manipulating matrices\n",
    "\n",
    "You can add rows and columns with rbind() and cbind()\n",
    "\n"
   ]
  },
  {
   "cell_type": "code",
   "execution_count": 26,
   "metadata": {
    "vscode": {
     "languageId": "r"
    }
   },
   "outputs": [
    {
     "data": {
      "text/html": [
       "'Add a row'"
      ],
      "text/latex": [
       "'Add a row'"
      ],
      "text/markdown": [
       "'Add a row'"
      ],
      "text/plain": [
       "[1] \"Add a row\""
      ]
     },
     "metadata": {},
     "output_type": "display_data"
    },
    {
     "data": {
      "text/html": [
       "<table class=\"dataframe\">\n",
       "<caption>A matrix: 4 × 3 of type dbl</caption>\n",
       "<tbody>\n",
       "\t<tr><td> 1</td><td> 2</td><td> 3</td></tr>\n",
       "\t<tr><td> 4</td><td> 5</td><td> 6</td></tr>\n",
       "\t<tr><td> 7</td><td> 8</td><td> 9</td></tr>\n",
       "\t<tr><td>10</td><td>10</td><td>10</td></tr>\n",
       "</tbody>\n",
       "</table>\n"
      ],
      "text/latex": [
       "A matrix: 4 × 3 of type dbl\n",
       "\\begin{tabular}{lll}\n",
       "\t  1 &  2 &  3\\\\\n",
       "\t  4 &  5 &  6\\\\\n",
       "\t  7 &  8 &  9\\\\\n",
       "\t 10 & 10 & 10\\\\\n",
       "\\end{tabular}\n"
      ],
      "text/markdown": [
       "\n",
       "A matrix: 4 × 3 of type dbl\n",
       "\n",
       "|  1 |  2 |  3 |\n",
       "|  4 |  5 |  6 |\n",
       "|  7 |  8 |  9 |\n",
       "| 10 | 10 | 10 |\n",
       "\n"
      ],
      "text/plain": [
       "     [,1] [,2] [,3]\n",
       "[1,]  1    2    3  \n",
       "[2,]  4    5    6  \n",
       "[3,]  7    8    9  \n",
       "[4,] 10   10   10  "
      ]
     },
     "metadata": {},
     "output_type": "display_data"
    },
    {
     "data": {
      "text/html": [
       "'Add a column'"
      ],
      "text/latex": [
       "'Add a column'"
      ],
      "text/markdown": [
       "'Add a column'"
      ],
      "text/plain": [
       "[1] \"Add a column\""
      ]
     },
     "metadata": {},
     "output_type": "display_data"
    },
    {
     "data": {
      "text/html": [
       "<table class=\"dataframe\">\n",
       "<caption>A matrix: 3 × 4 of type dbl</caption>\n",
       "<tbody>\n",
       "\t<tr><td>1</td><td>2</td><td>3</td><td>10</td></tr>\n",
       "\t<tr><td>4</td><td>5</td><td>6</td><td>10</td></tr>\n",
       "\t<tr><td>7</td><td>8</td><td>9</td><td>10</td></tr>\n",
       "</tbody>\n",
       "</table>\n"
      ],
      "text/latex": [
       "A matrix: 3 × 4 of type dbl\n",
       "\\begin{tabular}{llll}\n",
       "\t 1 & 2 & 3 & 10\\\\\n",
       "\t 4 & 5 & 6 & 10\\\\\n",
       "\t 7 & 8 & 9 & 10\\\\\n",
       "\\end{tabular}\n"
      ],
      "text/markdown": [
       "\n",
       "A matrix: 3 × 4 of type dbl\n",
       "\n",
       "| 1 | 2 | 3 | 10 |\n",
       "| 4 | 5 | 6 | 10 |\n",
       "| 7 | 8 | 9 | 10 |\n",
       "\n"
      ],
      "text/plain": [
       "     [,1] [,2] [,3] [,4]\n",
       "[1,] 1    2    3    10  \n",
       "[2,] 4    5    6    10  \n",
       "[3,] 7    8    9    10  "
      ]
     },
     "metadata": {},
     "output_type": "display_data"
    },
    {
     "data": {
      "text/html": [
       "'join two matrices by rows'"
      ],
      "text/latex": [
       "'join two matrices by rows'"
      ],
      "text/markdown": [
       "'join two matrices by rows'"
      ],
      "text/plain": [
       "[1] \"join two matrices by rows\""
      ]
     },
     "metadata": {},
     "output_type": "display_data"
    },
    {
     "data": {
      "text/html": [
       "<table class=\"dataframe\">\n",
       "<caption>A matrix: 6 × 3 of type int</caption>\n",
       "<tbody>\n",
       "\t<tr><td>1</td><td>2</td><td>3</td></tr>\n",
       "\t<tr><td>4</td><td>5</td><td>6</td></tr>\n",
       "\t<tr><td>7</td><td>8</td><td>9</td></tr>\n",
       "\t<tr><td>1</td><td>2</td><td>3</td></tr>\n",
       "\t<tr><td>4</td><td>5</td><td>6</td></tr>\n",
       "\t<tr><td>7</td><td>8</td><td>9</td></tr>\n",
       "</tbody>\n",
       "</table>\n"
      ],
      "text/latex": [
       "A matrix: 6 × 3 of type int\n",
       "\\begin{tabular}{lll}\n",
       "\t 1 & 2 & 3\\\\\n",
       "\t 4 & 5 & 6\\\\\n",
       "\t 7 & 8 & 9\\\\\n",
       "\t 1 & 2 & 3\\\\\n",
       "\t 4 & 5 & 6\\\\\n",
       "\t 7 & 8 & 9\\\\\n",
       "\\end{tabular}\n"
      ],
      "text/markdown": [
       "\n",
       "A matrix: 6 × 3 of type int\n",
       "\n",
       "| 1 | 2 | 3 |\n",
       "| 4 | 5 | 6 |\n",
       "| 7 | 8 | 9 |\n",
       "| 1 | 2 | 3 |\n",
       "| 4 | 5 | 6 |\n",
       "| 7 | 8 | 9 |\n",
       "\n"
      ],
      "text/plain": [
       "     [,1] [,2] [,3]\n",
       "[1,] 1    2    3   \n",
       "[2,] 4    5    6   \n",
       "[3,] 7    8    9   \n",
       "[4,] 1    2    3   \n",
       "[5,] 4    5    6   \n",
       "[6,] 7    8    9   "
      ]
     },
     "metadata": {},
     "output_type": "display_data"
    }
   ],
   "source": [
    "\"Add a row\"\n",
    "rbind(m, c(10, 10, 10))\n",
    "\n",
    "\"Add a column\"\n",
    "cbind(m, c(10, 10, 10))\n",
    "\n",
    "\"join two matrices by rows\"\n",
    "rbind(m, m)"
   ]
  },
  {
   "cell_type": "markdown",
   "metadata": {},
   "source": [
    "## Lists\n",
    "\n",
    "List are like vector but they can **contain elements of different types**. <br>\n",
    "A list can be used to store for example a person's features (height, weight, name, birth date....), which are of different types.<br>\n",
    "Of course lists cannot be used for algebraic operations like vectors"
   ]
  },
  {
   "cell_type": "code",
   "execution_count": 27,
   "metadata": {
    "vscode": {
     "languageId": "r"
    }
   },
   "outputs": [
    {
     "data": {
      "text/html": [
       "<dl>\n",
       "\t<dt>$Name</dt>\n",
       "\t\t<dd>'Pepe'</dd>\n",
       "\t<dt>$Height</dt>\n",
       "\t\t<dd>180</dd>\n",
       "\t<dt>$Birth</dt>\n",
       "\t\t<dd><time datetime=\"5-05-19\">5-05-19</time></dd>\n",
       "\t<dt>$Pets</dt>\n",
       "\t\t<dd><style>\n",
       ".list-inline {list-style: none; margin:0; padding: 0}\n",
       ".list-inline>li {display: inline-block}\n",
       ".list-inline>li:not(:last-child)::after {content: \"\\00b7\"; padding: 0 .5ex}\n",
       "</style>\n",
       "<ol class=list-inline><li>'gato1'</li><li>'gato2'</li><li>'perro1'</li></ol>\n",
       "</dd>\n",
       "</dl>\n"
      ],
      "text/latex": [
       "\\begin{description}\n",
       "\\item[\\$Name] 'Pepe'\n",
       "\\item[\\$Height] 180\n",
       "\\item[\\$Birth] 5-05-19\n",
       "\\item[\\$Pets] \\begin{enumerate*}\n",
       "\\item 'gato1'\n",
       "\\item 'gato2'\n",
       "\\item 'perro1'\n",
       "\\end{enumerate*}\n",
       "\n",
       "\\end{description}\n"
      ],
      "text/markdown": [
       "$Name\n",
       ":   'Pepe'\n",
       "$Height\n",
       ":   180\n",
       "$Birth\n",
       ":   5-05-19\n",
       "$Pets\n",
       ":   1. 'gato1'\n",
       "2. 'gato2'\n",
       "3. 'perro1'\n",
       "\n",
       "\n",
       "\n",
       "\n",
       "\n"
      ],
      "text/plain": [
       "$Name\n",
       "[1] \"Pepe\"\n",
       "\n",
       "$Height\n",
       "[1] 180\n",
       "\n",
       "$Birth\n",
       "[1] \"5-05-19\"\n",
       "\n",
       "$Pets\n",
       "[1] \"gato1\"  \"gato2\"  \"perro1\"\n"
      ]
     },
     "metadata": {},
     "output_type": "display_data"
    },
    {
     "data": {
      "text/html": [
       "'Pepes pets, by dollar'"
      ],
      "text/latex": [
       "'Pepes pets, by dollar'"
      ],
      "text/markdown": [
       "'Pepes pets, by dollar'"
      ],
      "text/plain": [
       "[1] \"Pepes pets, by dollar\""
      ]
     },
     "metadata": {},
     "output_type": "display_data"
    },
    {
     "data": {
      "text/html": [
       "<style>\n",
       ".list-inline {list-style: none; margin:0; padding: 0}\n",
       ".list-inline>li {display: inline-block}\n",
       ".list-inline>li:not(:last-child)::after {content: \"\\00b7\"; padding: 0 .5ex}\n",
       "</style>\n",
       "<ol class=list-inline><li>'gato1'</li><li>'gato2'</li><li>'perro1'</li></ol>\n"
      ],
      "text/latex": [
       "\\begin{enumerate*}\n",
       "\\item 'gato1'\n",
       "\\item 'gato2'\n",
       "\\item 'perro1'\n",
       "\\end{enumerate*}\n"
      ],
      "text/markdown": [
       "1. 'gato1'\n",
       "2. 'gato2'\n",
       "3. 'perro1'\n",
       "\n",
       "\n"
      ],
      "text/plain": [
       "[1] \"gato1\"  \"gato2\"  \"perro1\""
      ]
     },
     "metadata": {},
     "output_type": "display_data"
    },
    {
     "data": {
      "text/html": [
       "'Pepes pets, by index'"
      ],
      "text/latex": [
       "'Pepes pets, by index'"
      ],
      "text/markdown": [
       "'Pepes pets, by index'"
      ],
      "text/plain": [
       "[1] \"Pepes pets, by index\""
      ]
     },
     "metadata": {},
     "output_type": "display_data"
    },
    {
     "data": {
      "text/html": [
       "<style>\n",
       ".list-inline {list-style: none; margin:0; padding: 0}\n",
       ".list-inline>li {display: inline-block}\n",
       ".list-inline>li:not(:last-child)::after {content: \"\\00b7\"; padding: 0 .5ex}\n",
       "</style>\n",
       "<ol class=list-inline><li>'gato1'</li><li>'gato2'</li><li>'perro1'</li></ol>\n"
      ],
      "text/latex": [
       "\\begin{enumerate*}\n",
       "\\item 'gato1'\n",
       "\\item 'gato2'\n",
       "\\item 'perro1'\n",
       "\\end{enumerate*}\n"
      ],
      "text/markdown": [
       "1. 'gato1'\n",
       "2. 'gato2'\n",
       "3. 'perro1'\n",
       "\n",
       "\n"
      ],
      "text/plain": [
       "[1] \"gato1\"  \"gato2\"  \"perro1\""
      ]
     },
     "metadata": {},
     "output_type": "display_data"
    }
   ],
   "source": [
    "pepe <- list(Name = \"Pepe\", Height = 180, Birth=as.Date(\"05/05/1955\"), Pets=c(\"gato1\", \"gato2\", \"perro1\" )) \n",
    "\n",
    "pepe\n",
    "\n",
    "# List can be indexed by the dollar symbol $\n",
    "\"Pepes pets, by dollar\"\n",
    "pepe$Pets\n",
    "\n",
    "# Or if the element does not have a name, by index using double [[]]\n",
    "\"Pepes pets, by index\"\n",
    "pepe[[4]]"
   ]
  },
  {
   "cell_type": "markdown",
   "metadata": {},
   "source": [
    "## The apply functions"
   ]
  },
  {
   "cell_type": "markdown",
   "metadata": {},
   "source": [
    "A popular alternative to loops in R are the apply functions:\n"
   ]
  },
  {
   "cell_type": "code",
   "execution_count": 28,
   "metadata": {
    "vscode": {
     "languageId": "r"
    }
   },
   "outputs": [
    {
     "data": {
      "text/html": [
       "'How long is each word? we can use a loop'"
      ],
      "text/latex": [
       "'How long is each word? we can use a loop'"
      ],
      "text/markdown": [
       "'How long is each word? we can use a loop'"
      ],
      "text/plain": [
       "[1] \"How long is each word? we can use a loop\""
      ]
     },
     "metadata": {},
     "output_type": "display_data"
    },
    {
     "data": {
      "text/html": [
       "<style>\n",
       ".list-inline {list-style: none; margin:0; padding: 0}\n",
       ".list-inline>li {display: inline-block}\n",
       ".list-inline>li:not(:last-child)::after {content: \"\\00b7\"; padding: 0 .5ex}\n",
       "</style>\n",
       "<ol class=list-inline><li>7</li><li>7</li><li>7</li><li>7</li><li>6</li></ol>\n"
      ],
      "text/latex": [
       "\\begin{enumerate*}\n",
       "\\item 7\n",
       "\\item 7\n",
       "\\item 7\n",
       "\\item 7\n",
       "\\item 6\n",
       "\\end{enumerate*}\n"
      ],
      "text/markdown": [
       "1. 7\n",
       "2. 7\n",
       "3. 7\n",
       "4. 7\n",
       "5. 6\n",
       "\n",
       "\n"
      ],
      "text/plain": [
       "[1] 7 7 7 7 6"
      ]
     },
     "metadata": {},
     "output_type": "display_data"
    },
    {
     "data": {
      "text/html": [
       "'sapply applies the nchar function on each element and returns a list'"
      ],
      "text/latex": [
       "'sapply applies the nchar function on each element and returns a list'"
      ],
      "text/markdown": [
       "'sapply applies the nchar function on each element and returns a list'"
      ],
      "text/plain": [
       "[1] \"sapply applies the nchar function on each element and returns a list\""
      ]
     },
     "metadata": {},
     "output_type": "display_data"
    },
    {
     "data": {
      "text/html": [
       "<style>\n",
       ".list-inline {list-style: none; margin:0; padding: 0}\n",
       ".list-inline>li {display: inline-block}\n",
       ".list-inline>li:not(:last-child)::after {content: \"\\00b7\"; padding: 0 .5ex}\n",
       "</style>\n",
       "<ol class=list-inline><li>7</li><li>7</li><li>7</li><li>7</li><li>6</li></ol>\n"
      ],
      "text/latex": [
       "\\begin{enumerate*}\n",
       "\\item 7\n",
       "\\item 7\n",
       "\\item 7\n",
       "\\item 7\n",
       "\\item 6\n",
       "\\end{enumerate*}\n"
      ],
      "text/markdown": [
       "1. 7\n",
       "2. 7\n",
       "3. 7\n",
       "4. 7\n",
       "5. 6\n",
       "\n",
       "\n"
      ],
      "text/plain": [
       "[1] 7 7 7 7 6"
      ]
     },
     "metadata": {},
     "output_type": "display_data"
    }
   ],
   "source": [
    "fruits <- list(\"mangoes\", \"bananas\", \"peaches\", \"oranges\", \"apples\")\n",
    "\n",
    "\"How long is each word? we can use a loop\"\n",
    "\n",
    "l <- c()\n",
    "\n",
    "for(x in fruits) {\n",
    "\n",
    "    l <- c(l, nchar(x))\n",
    "\n",
    "}\n",
    "\n",
    "l\n",
    "    \n",
    "\"sapply applies the nchar function on each element and returns a list\"\n",
    "l <- sapply(fruits, nchar)\n",
    "\n",
    "l\n"
   ]
  },
  {
   "cell_type": "markdown",
   "metadata": {},
   "source": [
    "### apply's anonymous function\n",
    "\n",
    "if the function to apply is more complex, you can specify it directly"
   ]
  },
  {
   "cell_type": "code",
   "execution_count": 29,
   "metadata": {
    "vscode": {
     "languageId": "r"
    }
   },
   "outputs": [
    {
     "data": {
      "text/html": [
       "'check which words are of 7 characters'"
      ],
      "text/latex": [
       "'check which words are of 7 characters'"
      ],
      "text/markdown": [
       "'check which words are of 7 characters'"
      ],
      "text/plain": [
       "[1] \"check which words are of 7 characters\""
      ]
     },
     "metadata": {},
     "output_type": "display_data"
    },
    {
     "data": {
      "text/html": [
       "<style>\n",
       ".list-inline {list-style: none; margin:0; padding: 0}\n",
       ".list-inline>li {display: inline-block}\n",
       ".list-inline>li:not(:last-child)::after {content: \"\\00b7\"; padding: 0 .5ex}\n",
       "</style>\n",
       "<ol class=list-inline><li>TRUE</li><li>TRUE</li><li>TRUE</li><li>TRUE</li><li>FALSE</li></ol>\n"
      ],
      "text/latex": [
       "\\begin{enumerate*}\n",
       "\\item TRUE\n",
       "\\item TRUE\n",
       "\\item TRUE\n",
       "\\item TRUE\n",
       "\\item FALSE\n",
       "\\end{enumerate*}\n"
      ],
      "text/markdown": [
       "1. TRUE\n",
       "2. TRUE\n",
       "3. TRUE\n",
       "4. TRUE\n",
       "5. FALSE\n",
       "\n",
       "\n"
      ],
      "text/plain": [
       "[1]  TRUE  TRUE  TRUE  TRUE FALSE"
      ]
     },
     "metadata": {},
     "output_type": "display_data"
    }
   ],
   "source": [
    "fruits <- list(\"mangoes\", \"bananas\", \"peaches\",\"oranges\", \"apples\")\n",
    "\n",
    "\"check which words are of 7 characters\"\n",
    "sapply(fruits, function(x) if(nchar(x) == 7) return (T) else return (F) )\n",
    "    \n",
    "# The previous function is \"anonymous\", because it is only visible inside the apply function.\n",
    "# But you can specify an external function, especially if is very long\n",
    "    "
   ]
  },
  {
   "cell_type": "markdown",
   "metadata": {},
   "source": [
    "*warning: if sapply cannot simplify the result into a vector, it will return a list just l"
   ]
  },
  {
   "cell_type": "markdown",
   "metadata": {},
   "source": [
    "### the apply family"
   ]
  },
  {
   "cell_type": "markdown",
   "metadata": {},
   "source": [
    "- apply iterates over rows or columns of matrices\n",
    "- lapply iterates over list and vector, apply a specific functions for each element and returns a list of results\n",
    "- sapply is similar to lapply but tries to compress the result into a vector. If used wrongly can return wierd results\n",
    "- vapply only iterates over vectors and requires to specify the type of return value. It can be safer and faster than sapply\n",
    "- rapply recursively iterate over nested lists: list(..., list(list(), list()...)...)\n",
    "- mapply apply a function for each element of same-length vectors: mapply(sum, 1:3, 1:3, 1:3) -> 3 6 9\n",
    "- tapply apply a function based on grouping define by a factor (see next section)\n",
    "\n",
    "For more informations: https://ademos.people.uic.edu/Chapter4.html"
   ]
  },
  {
   "cell_type": "markdown",
   "metadata": {},
   "source": [
    "## Factors\n",
    "\n",
    "Factor a categorical variables. They can be very useful when we want to group together elements of vectors, lists data frames....\n",
    "\n",
    "\n"
   ]
  },
  {
   "cell_type": "code",
   "execution_count": 30,
   "metadata": {
    "scrolled": true,
    "vscode": {
     "languageId": "r"
    }
   },
   "outputs": [
    {
     "data": {
      "text/html": [
       "'the vector'"
      ],
      "text/latex": [
       "'the vector'"
      ],
      "text/markdown": [
       "'the vector'"
      ],
      "text/plain": [
       "[1] \"the vector\""
      ]
     },
     "metadata": {},
     "output_type": "display_data"
    },
    {
     "data": {
      "text/html": [
       "<style>\n",
       ".list-inline {list-style: none; margin:0; padding: 0}\n",
       ".list-inline>li {display: inline-block}\n",
       ".list-inline>li:not(:last-child)::after {content: \"\\00b7\"; padding: 0 .5ex}\n",
       "</style>\n",
       "<ol class=list-inline><li>'apple'</li><li>'apple'</li><li>'orange'</li><li>'orange'</li><li>'apple'</li></ol>\n"
      ],
      "text/latex": [
       "\\begin{enumerate*}\n",
       "\\item 'apple'\n",
       "\\item 'apple'\n",
       "\\item 'orange'\n",
       "\\item 'orange'\n",
       "\\item 'apple'\n",
       "\\end{enumerate*}\n"
      ],
      "text/markdown": [
       "1. 'apple'\n",
       "2. 'apple'\n",
       "3. 'orange'\n",
       "4. 'orange'\n",
       "5. 'apple'\n",
       "\n",
       "\n"
      ],
      "text/plain": [
       "[1] \"apple\"  \"apple\"  \"orange\" \"orange\" \"apple\" "
      ]
     },
     "metadata": {},
     "output_type": "display_data"
    },
    {
     "data": {
      "text/html": [
       "'the factor'"
      ],
      "text/latex": [
       "'the factor'"
      ],
      "text/markdown": [
       "'the factor'"
      ],
      "text/plain": [
       "[1] \"the factor\""
      ]
     },
     "metadata": {},
     "output_type": "display_data"
    },
    {
     "data": {
      "text/html": [
       "<style>\n",
       ".list-inline {list-style: none; margin:0; padding: 0}\n",
       ".list-inline>li {display: inline-block}\n",
       ".list-inline>li:not(:last-child)::after {content: \"\\00b7\"; padding: 0 .5ex}\n",
       "</style>\n",
       "<ol class=list-inline><li>apple</li><li>apple</li><li>orange</li><li>orange</li><li>apple</li></ol>\n",
       "\n",
       "<details>\n",
       "\t<summary style=display:list-item;cursor:pointer>\n",
       "\t\t<strong>Levels</strong>:\n",
       "\t</summary>\n",
       "\t<style>\n",
       "\t.list-inline {list-style: none; margin:0; padding: 0}\n",
       "\t.list-inline>li {display: inline-block}\n",
       "\t.list-inline>li:not(:last-child)::after {content: \"\\00b7\"; padding: 0 .5ex}\n",
       "\t</style>\n",
       "\t<ol class=list-inline><li>'apple'</li><li>'orange'</li></ol>\n",
       "</details>"
      ],
      "text/latex": [
       "\\begin{enumerate*}\n",
       "\\item apple\n",
       "\\item apple\n",
       "\\item orange\n",
       "\\item orange\n",
       "\\item apple\n",
       "\\end{enumerate*}\n",
       "\n",
       "\\emph{Levels}: \\begin{enumerate*}\n",
       "\\item 'apple'\n",
       "\\item 'orange'\n",
       "\\end{enumerate*}\n"
      ],
      "text/markdown": [
       "1. apple\n",
       "2. apple\n",
       "3. orange\n",
       "4. orange\n",
       "5. apple\n",
       "\n",
       "\n",
       "\n",
       "**Levels**: 1. 'apple'\n",
       "2. 'orange'\n",
       "\n",
       "\n"
      ],
      "text/plain": [
       "[1] apple  apple  orange orange apple \n",
       "Levels: apple orange"
      ]
     },
     "metadata": {},
     "output_type": "display_data"
    }
   ],
   "source": [
    "# a normal vector\n",
    "fruits <- c(\"apple\", \"apple\", \"orange\", \"orange\", \"apple\")\n",
    "\n",
    "# create a vector out of it\n",
    "fruits_factor <- factor(fruits)\n",
    "\n",
    "\"the vector\"\n",
    "fruits\n",
    "\"the factor\"\n",
    "fruits_factor\n",
    "\n"
   ]
  },
  {
   "cell_type": "markdown",
   "metadata": {},
   "source": [
    "notice the difference, \"fruits\" is just a vector of strings, \"fruits_factor\" is a factor, a vector of categories. \"Levels\" shows you the categories contained in the factor.\n",
    "The second factor has been created from a vector of numbers, as you can see, R created a factor of categories as with the fruit vector. *It does not matter what type is used to create a factor, equal element will correspond to a single category*\n",
    "\n",
    "\n",
    "Why do we need factors? \n",
    "Factors are needed to tell R which elements belongs to the same group. For example, let's see the **tapply** function:\n"
   ]
  },
  {
   "cell_type": "code",
   "execution_count": 31,
   "metadata": {
    "vscode": {
     "languageId": "r"
    }
   },
   "outputs": [
    {
     "data": {
      "text/html": [
       "<style>\n",
       ".dl-inline {width: auto; margin:0; padding: 0}\n",
       ".dl-inline>dt, .dl-inline>dd {float: none; width: auto; display: inline-block}\n",
       ".dl-inline>dt::after {content: \":\\0020\"; padding-right: .5ex}\n",
       ".dl-inline>dt:not(:first-of-type) {padding-left: .5ex}\n",
       "</style><dl class=dl-inline><dt>apple</dt><dd>2.5</dd><dt>orange</dt><dd>4</dd><dt>pineapple</dt><dd>16.5</dd></dl>\n"
      ],
      "text/latex": [
       "\\begin{description*}\n",
       "\\item[apple] 2.5\n",
       "\\item[orange] 4\n",
       "\\item[pineapple] 16.5\n",
       "\\end{description*}\n"
      ],
      "text/markdown": [
       "apple\n",
       ":   2.5orange\n",
       ":   4pineapple\n",
       ":   16.5\n",
       "\n"
      ],
      "text/plain": [
       "    apple    orange pineapple \n",
       "      2.5       4.0      16.5 "
      ]
     },
     "metadata": {},
     "output_type": "display_data"
    }
   ],
   "source": [
    "# let's say we have 5 fruits....\n",
    "\n",
    "# the vector of fruit types\n",
    "fruits <- c(\"apple\", \"apple\", \"pineapple\", \"orange\", \"pineapple\")\n",
    "\n",
    "# the size of each fruit\n",
    "sizes <- c(2, 3, 15, 4, 18)\n",
    "\n",
    "# How can we get the average of each TYPE of fruit?\n",
    "# tapply get the mean for each group!\n",
    "tapply(X = sizes, INDEX = factor(fruits), FUN = mean)\n",
    "\n"
   ]
  },
  {
   "cell_type": "markdown",
   "metadata": {},
   "source": [
    "## Example: The Monty Hall problem\n",
    "\n",
    "<img src=\"montyhallproblem.png\">"
   ]
  },
  {
   "cell_type": "markdown",
   "metadata": {},
   "source": [
    "The monty hall problem is loosely based on the American television game show from the '60s. The contestant is presented with 3 doors: one contains a valuable car, and the other two hid goats. The contestant has to choose a door and try to win the prize. However:\n",
    "\n",
    "- after choosing a door, the door is not inmediately revealed\n",
    "- the host will instead open one of the two remeaining doors, **always** revealing a goat (the host knows what is behind each door)\n",
    "- the contestant is therefore left with two remaining doors, the chosen one and the alternative\n",
    "- the contestant is offered the choice to keep the original door or to switch to the alternative\n",
    "\n",
    "What do you think is the best option for the contestant?  to stay or to switch? Or is does not matter? *(hint: think of a similar game but with MANY doors, one cars a many goats)*"
   ]
  },
  {
   "cell_type": "markdown",
   "metadata": {},
   "source": [
    "Let's try to solve the problem by simulation:"
   ]
  },
  {
   "cell_type": "code",
   "execution_count": 42,
   "metadata": {
    "vscode": {
     "languageId": "r"
    }
   },
   "outputs": [
    {
     "data": {
      "text/plain": [
       "win_stay\n",
       "FALSE  TRUE \n",
       "   61    39 "
      ]
     },
     "metadata": {},
     "output_type": "display_data"
    },
    {
     "data": {
      "text/plain": [
       "win_switch\n",
       "FALSE  TRUE \n",
       "   39    61 "
      ]
     },
     "metadata": {},
     "output_type": "display_data"
    },
    {
     "data": {
      "text/html": [
       "<table class=\"dataframe\">\n",
       "<caption>A matrix: 6 × 2 of type int</caption>\n",
       "<thead>\n",
       "\t<tr><th scope=col>Stay</th><th scope=col>Switch</th></tr>\n",
       "</thead>\n",
       "<tbody>\n",
       "\t<tr><td>1</td><td>0</td></tr>\n",
       "\t<tr><td>2</td><td>0</td></tr>\n",
       "\t<tr><td>2</td><td>1</td></tr>\n",
       "\t<tr><td>3</td><td>1</td></tr>\n",
       "\t<tr><td>4</td><td>1</td></tr>\n",
       "\t<tr><td>4</td><td>2</td></tr>\n",
       "</tbody>\n",
       "</table>\n"
      ],
      "text/latex": [
       "A matrix: 6 × 2 of type int\n",
       "\\begin{tabular}{ll}\n",
       " Stay & Switch\\\\\n",
       "\\hline\n",
       "\t 1 & 0\\\\\n",
       "\t 2 & 0\\\\\n",
       "\t 2 & 1\\\\\n",
       "\t 3 & 1\\\\\n",
       "\t 4 & 1\\\\\n",
       "\t 4 & 2\\\\\n",
       "\\end{tabular}\n"
      ],
      "text/markdown": [
       "\n",
       "A matrix: 6 × 2 of type int\n",
       "\n",
       "| Stay | Switch |\n",
       "|---|---|\n",
       "| 1 | 0 |\n",
       "| 2 | 0 |\n",
       "| 2 | 1 |\n",
       "| 3 | 1 |\n",
       "| 4 | 1 |\n",
       "| 4 | 2 |\n",
       "\n"
      ],
      "text/plain": [
       "     Stay Switch\n",
       "[1,] 1    0     \n",
       "[2,] 2    0     \n",
       "[3,] 2    1     \n",
       "[4,] 3    1     \n",
       "[5,] 4    1     \n",
       "[6,] 4    2     "
      ]
     },
     "metadata": {},
     "output_type": "display_data"
    },
    {
     "data": {
      "image/png": "[encoded data removed]",
      "text/plain": [
       "plot without title"
      ]
     },
     "metadata": {
      "image/png": {
       "height": 420,
       "width": 420
      }
     },
     "output_type": "display_data"
    }
   ],
   "source": [
    "# Number of iterations\n",
    "N <- 100\n",
    "\n",
    "# Solution with for loop\n",
    "\n",
    "doors <- c(\"A\", \"B\", \"C\")\n",
    "\n",
    "# Vector is a function that creates an empty vector of a given type and lenght.\n",
    "car <- vector(\"integer\", N)  # the doors hiding the cars\n",
    "choice <- vector(\"integer\", N) # the doors chosen by the participant\n",
    "monty <- vector(\"integer\", N) # the doors revealed by monty\n",
    "closed <- vector(\"integer\", N) # the doors that is not either the choice or monty's\n",
    "win_stay <- vector(\"logical\", N)  # the times that we win by staying\n",
    "win_switch <- vector(\"logical\", N) # the times that we win by switching\n",
    "\n",
    "for(i in 1:N) {\n",
    "\n",
    "  # Sample es una función que permite tomar un\n",
    "  # número determinado de muestras (parámetro size),\n",
    "  # de un conjunto.\n",
    "  car[i] <- sample(x = doors, size = 1) # Se decide al azar cual tiene el coche.\n",
    "  choice[i] <- sample(x = doors, size = 1) # Se decide al azar la que se escoje.\n",
    "  # Una de las puertas que contiene una cabra es reveleada\n",
    "  # por el presentador, y por lo tanto no puede ser ni la elegida\n",
    "  # ni la que esconde al coche.\n",
    "  monty[i] <- sample(x = doors[!doors %in% c(choice[i], car[i])], size = 1)\n",
    "  # La puerta que permanece cerrada no puede ser\n",
    "  # ni la que hemos escogido\n",
    "  # ni la que revela el presentador que contiene una cabra.\n",
    "  closed[i] <- doors[!doors %in% c(choice[i], monty[i])]\n",
    "  win_stay[i] <- car[i] == choice[i] # Cuenta las veces que ganamos o frasamos mantiendo la elección.\n",
    "  win_switch[i] <- car[i] == closed[i] # Cuenta las veces que ganamos o frasamos cambiando de puerta.\n",
    "}\n",
    "\n",
    "# Table devuelve una tabla apartir de vectores tomando los valores como factores\n",
    "# y realiza el conteo.\n",
    "table(win_stay)\n",
    "table(win_switch)\n",
    "\n",
    "\n",
    "# Cumsum devuelve un vector con la suma cumulativa de los elementos\n",
    "# de un vector. Como TRUE tiene valor 1, obtendremos en cada posición\n",
    "# la cantidad total de veces que se ha conseguido el coche hasta llegar\n",
    "# a esa iteración (cada posición) es una iteración distinta.\n",
    "\n",
    "# Crea ua matriz en la que una columna es la suma cumulativa\n",
    "# de los aciertos por mantener la elección y la otra la suma\n",
    "# de los aciertos por cambiar de puerta.\n",
    "\n",
    "res <- cbind(cumsum(win_stay), cumsum(win_switch))\n",
    "colnames(res) <- c(\"Stay\", \"Switch\")\n",
    "head(res)\n",
    "\n",
    "matplot(\n",
    "  # x al no declararlo se autoincrementa del 1 a los valores de y.\n",
    "  y = res,\n",
    "  # Tenemos más de una variable que represtnar, configuramos los colores.\n",
    "  col = c(\"red\", \"blue\"),\n",
    "  # pch corresponde al caracter que se usa para represtnar cada punto.\n",
    "  # Cada uno tiene un código y el 16 corresponde a puntos gorditos.\n",
    "  pch = 16,\n",
    "  ylab = \"Number of wins\", # Etiqueta del eje x.\n",
    "  xlab = \"Iteration\", # Etiqueta del eje y.\n",
    "  # cex es el número por el que se multiplica el tamaño estándar de\n",
    "  # los caracteres de representación. 2 quiere decir que representa los\n",
    "  # puntos el doble de grande de lo normal.\n",
    "  cex = 2, \n",
    "  cex.axis = 2, # Lo mismo para las líneas de eje.\n",
    "  cex.lab = 2 # Los mismo para las fuentes de las etiquetas.\n",
    ")\n",
    "\n",
    "# Creamos la leyenda de la gráfica.\n",
    "legend(\n",
    "\n",
    "  # Coordenadas de la ubicación de la leyenda.\n",
    "  x = 10,\n",
    "  y = 60,\n",
    "  c(\"Stay\", \"Switch\"), # Indicadores de la leyenda.\n",
    "  # Usamos el mismo caracter y colores que en la gráfica,\n",
    "  # además del mismo tamaño.\n",
    "  col = c(\"red\", \"blue\"),\n",
    "  pch = 16,\n",
    "  cex = 2\n",
    ")\n"
   ]
  },
  {
   "cell_type": "code",
   "execution_count": 2,
   "metadata": {
    "vscode": {
     "languageId": "r"
    }
   },
   "outputs": [
    {
     "data": {
      "text/plain": [
       "win_stay\n",
       " FALSE   TRUE \n",
       "667096 332904 "
      ]
     },
     "metadata": {},
     "output_type": "display_data"
    },
    {
     "data": {
      "text/plain": [
       "win_switch\n",
       " FALSE   TRUE \n",
       "332904 667096 "
      ]
     },
     "metadata": {},
     "output_type": "display_data"
    },
    {
     "data": {
      "text/html": [
       "<table class=\"dataframe\">\n",
       "<caption>A matrix: 6 × 2 of type int</caption>\n",
       "<thead>\n",
       "\t<tr><th scope=col>Stay</th><th scope=col>Switch</th></tr>\n",
       "</thead>\n",
       "<tbody>\n",
       "\t<tr><td>0</td><td>1</td></tr>\n",
       "\t<tr><td>0</td><td>2</td></tr>\n",
       "\t<tr><td>1</td><td>2</td></tr>\n",
       "\t<tr><td>1</td><td>3</td></tr>\n",
       "\t<tr><td>1</td><td>4</td></tr>\n",
       "\t<tr><td>1</td><td>5</td></tr>\n",
       "</tbody>\n",
       "</table>\n"
      ],
      "text/latex": [
       "A matrix: 6 × 2 of type int\n",
       "\\begin{tabular}{ll}\n",
       " Stay & Switch\\\\\n",
       "\\hline\n",
       "\t 0 & 1\\\\\n",
       "\t 0 & 2\\\\\n",
       "\t 1 & 2\\\\\n",
       "\t 1 & 3\\\\\n",
       "\t 1 & 4\\\\\n",
       "\t 1 & 5\\\\\n",
       "\\end{tabular}\n"
      ],
      "text/markdown": [
       "\n",
       "A matrix: 6 × 2 of type int\n",
       "\n",
       "| Stay | Switch |\n",
       "|---|---|\n",
       "| 0 | 1 |\n",
       "| 0 | 2 |\n",
       "| 1 | 2 |\n",
       "| 1 | 3 |\n",
       "| 1 | 4 |\n",
       "| 1 | 5 |\n",
       "\n"
      ],
      "text/plain": [
       "     Stay Switch\n",
       "[1,] 0    1     \n",
       "[2,] 0    2     \n",
       "[3,] 1    2     \n",
       "[4,] 1    3     \n",
       "[5,] 1    4     \n",
       "[6,] 1    5     "
      ]
     },
     "metadata": {},
     "output_type": "display_data"
    },
    {
     "data": {
      "image/png": "[encoded data removed]",
      "text/plain": [
       "plot without title"
      ]
     },
     "metadata": {
      "image/png": {
       "height": 420,
       "width": 420
      }
     },
     "output_type": "display_data"
    }
   ],
   "source": [
    "# Solution with vectorizations functions\n",
    "N <- 1000000\n",
    "\n",
    "# En este caso se usa sapply y unes los pasos de declaración de\n",
    "# vectores y del cálculo en uno solo.\n",
    "\n",
    "doors <- c(\"A\", \"B\", \"C\")\n",
    "\n",
    "# Lo que se establece al azar es la puerta del coche y la elegida.\n",
    "car <- sample(x = doors, size = N, replace = T)\n",
    "choice <- sample(x = doors, size = N, replace = T)\n",
    "\n",
    "# En función de las otras dos variables, se deben establecer el resto.\n",
    "# Monty no puede ser ni la elegida ni la del coche, aunque si se ha elegido\n",
    "# la del coche hay dos entre las que tenemos que elegir al azar,\n",
    "# por eso se usa sample.\n",
    "monty <- sapply(1:N, function(i) sample(x = doors[!doors %in% c(choice[i], car[i])], size = 1)) # Size = 1 porque el bucle te lo hace sapply.\n",
    "\n",
    "# La cerrada no puede ser monty ni la elegida.\n",
    "closed <- sapply(1:N, function(i) doors[!doors %in% c(choice[i], monty[i])])\n",
    "win_stay <- car == choice\n",
    "win_switch <- car == closed\n",
    "\n",
    "table(win_stay)\n",
    "table(win_switch)\n",
    "\n",
    "res <- cbind(cumsum(win_stay), cumsum(win_switch))\n",
    "colnames(res) <- c(\"Stay\", \"Switch\")\n",
    "head(res)\n",
    "\n",
    "matplot(\n",
    "  # x al no declararlo se autoincrementa del 1 a los valores de y.\n",
    "  y = res,\n",
    "  # Tenemos más de una variable que represtnar, configuramos los colores.\n",
    "  col = c(\"red\", \"blue\"),\n",
    "  # pch corresponde al caracter que se usa para represtnar cada punto.\n",
    "  # Cada uno tiene un código y el 16 corresponde a puntos gorditos.\n",
    "  pch = 16,\n",
    "  ylab = \"Number of wins\", # Etiqueta del eje x.\n",
    "  xlab = \"Iteration\", # Etiqueta del eje y.\n",
    "  # cex es el número por el que se multiplica el tamaño estándar de\n",
    "  # los caracteres de representación. 2 quiere decir que representa los\n",
    "  # puntos el doble de grande de lo normal.\n",
    "  cex = 2,\n",
    "  cex.axis = 1, # Lo mismo para las marcas de eje.\n",
    "  cex.lab = 1 # Los mismo para las fuentes de las etiquetas.\n",
    ")\n",
    "\n",
    "# Creamos la leyenda de la gráfica.\n",
    "legend(\n",
    "\n",
    "  # Coordenadas de la ubicación de la leyenda.\n",
    "  x = 1.5e+5,\n",
    "  y = 6e+5,\n",
    "  c(\"Stay\", \"Switch\"), # Indicadores de la leyenda.\n",
    "  # Usamos el mismo caracter y colores que en la gráfica,\n",
    "  # además del mismo tamaño.\n",
    "  col = c(\"red\", \"blue\"),\n",
    "  pch = 16,\n",
    "  cex = 1\n",
    ")\n",
    "\n",
    "# En esta simulación larga el resultado sale 1/3 y 2/3 casi de manera perfecta."
   ]
  }
 ],
 "metadata": {
  "kernelspec": {
   "display_name": "R",
   "language": "R",
   "name": "ir"
  },
  "language_info": {
   "codemirror_mode": "r",
   "file_extension": ".r",
   "mimetype": "text/x-r-source",
   "name": "R",
   "pygments_lexer": "r",
   "version": "4.3.2"
  }
 },
 "nbformat": 4,
 "nbformat_minor": 4
}
